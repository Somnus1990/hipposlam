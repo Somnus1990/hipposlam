{
 "cells": [
  {
   "cell_type": "markdown",
   "metadata": {},
   "source": [
    "# Jupyter Notebook for IFAT VCO implementation\n",
    "\n",
    "This notebook lays out step-by-step the VCO matrix implementation (proposed by [Welday _et al._, 2008](http://www.jneurosci.org/content/31/45/16157.long)) to be implemented on the IFAT system.\n"
   ]
  },
  {
   "cell_type": "markdown",
   "metadata": {},
   "source": [
    "First, we'll import the necessary Python packages:"
   ]
  },
  {
   "cell_type": "code",
   "execution_count": 1,
   "metadata": {},
   "outputs": [],
   "source": [
    "import numpy as np\n",
    "import numpy.random as nprd\n",
    "import matplotlib.pyplot as plt\n",
    "from mpl_toolkits.axes_grid1 import make_axes_locatable\n",
    "from matplotlib.collections import LineCollection\n",
    "import math\n",
    "\n",
    "import vco  # this is the Python library developed for this project - for clarity, \n",
    "            # I'll use it in this notebook only after I've already \n",
    "            # explained/developed the functions\n",
    "\n",
    "%matplotlib inline"
   ]
  },
  {
   "cell_type": "markdown",
   "metadata": {},
   "source": [
    "### VCO model as a Python class\n",
    "First, we create a Python class to model the VCO; this is a purely mathematical representation of the VCO. By this, we mean that the VCO is described by variables and parameters that allow us to calculate the activity for a given spatial path, rather than the VCO being an actual unit oscillating in time. In other words, it is represented by a series of shifted sinusoids, instead of a variable-frequency oscillator.\n",
    "\n",
    "The first three functions in the class are used internally to initialize and print an instance of the VCO model. Each VCO has the following parameters that describe it:\n",
    "* $N$ - the number of cells in the VCO\n",
    "* $\\rho$ - the slope of speed modulation (relating to the preferred vector magnitude)\n",
    "* $\\theta$ - the preferred vector orientation\n",
    "* `phz_noise` - a variable controlling the amount of jitter added to the preferred directions of the VCO's cells (we will leave this at 0, meaning that the preferred directions are each $\\frac{2\\pi}{N}$ greater than the previous cell.\n",
    "\n",
    "The last function, `cell_activity`, allows us to see the activity of the VCO at a given location, for a given cell within the VCO."
   ]
  },
  {
   "cell_type": "code",
   "execution_count": 2,
   "metadata": {},
   "outputs": [],
   "source": [
    "class VCO_model:\n",
    "\n",
    "    def __init__(self, N, rho, theta, phz_noise=0):\n",
    "        self.N = N                       # number of cells in VCO\n",
    "        self.rho = rho                   # slope of speed modulation\n",
    "        self.theta = theta               # preferred orientation\n",
    "        self.phz_noise = phz_noise       # amount of noise introduced in phase offset between each of N cells\n",
    "        self.cellphz = self._add_noise() # length N array of phase offsets for each cell \n",
    "\n",
    "    def __repr__(self):\n",
    "        rs = 'VCO [N={}, (rho, theta)=({}, {:f}), phi_n={}]'\n",
    "        return rs.format(self.N, self.rho, self.theta, self.phz_noise)\n",
    "\n",
    "    def _add_noise(self):\n",
    "        cellphz = np.zeros(self.N)\n",
    "        phz_int = 2.0 * np.pi / self.N\n",
    "        valid = False\n",
    "        while not valid:\n",
    "            phase = 0\n",
    "            for i in range(self.N):\n",
    "                cellphz[i] = phase\n",
    "                if (i==(self.N-1)):\n",
    "                    if not((phase > 2*np.pi) or (phase < 2*(np.pi - phz_int))):\n",
    "                        valid = True\n",
    "                else:\n",
    "                    noise = (2 * phz_int * (nprd.random()-0.5)) * self.phz_noise\n",
    "                    phase = phase + phz_int + noise\n",
    "        return cellphz\n",
    "    \n",
    "    def cell_activity(self, cell, x, y):\n",
    "        x_term = self.rho * np.cos(-self.theta) * x\n",
    "        y_term = self.rho * np.sin(-self.theta) * y\n",
    "        phz_term = self.cellphz[cell] + np.pi/2.0\n",
    "        return np.exp(1j * (x_term + y_term + phz_term));"
   ]
  },
  {
   "cell_type": "markdown",
   "metadata": {},
   "source": [
    "The function `cell_activity(cell, x, y)` returns the firing rate of the cell at index `cell` $[0,N)$ in the VCO for the path defined by the arrays $x$ and $y$. \n",
    "\n",
    "The math for this is somewhat complicated; it starts with by defining the instantaneous angular frequency of the VCO (the speed with which a spike travels around the VCO, so effectively the spiking frequency of all N VCO neurons) as:\n",
    "\n",
    "$$ \\omega_n(t) = \\Omega(t) + \\mathbf{d}_n \\cdot \\mathbf{v}(t)$$\n",
    "\n",
    "where $\\Omega(t)$ is the \"shared angular base frequency\" (the theta frequency of ~8Hz), $\\mathbf{d}_n$ is the preferred direction vector for VCO $n$, and $\\mathbf{v}(t)$ is the velocity vector of the animal (equation 11 in the text). The dot product $\\mathbf{d}_n \\cdot \\mathbf{v}(t)$ is what Ralph was referring to in our meeting. **_Effectively, the frequency of a VCO is modulated around a base frequency by the dot product of the velocity and the preferrred direction._ I think that this is the most relevant equation for implementation.**\n",
    "\n",
    "\n",
    "To get from this equation to the equation in `cell_activity()`, we first integrate the equation above to find the instantaneous _phase_ of the VCO:\n",
    "\n",
    "$$ \\phi_n(t) = \\Phi(t) + \\delta_n(\\mathbf{x}(t))$$\n",
    "\n",
    "where $\\Phi(t)$ is, similarly, the shared base phase (from integrating $\\Omega$ over the interval $[0,t)$), and $\\delta_n$ is the phase offset of a particular VCO - this depends on the animal's location, $\\mathbf{x}(t)$. With this, we can bring back in the animal's position (which makes sense, since we've integrated velocity):\n",
    "\n",
    "$$\n",
    "\\begin{eqnarray}\n",
    "\\delta_n(\\mathbf{x}(t)) &=& \\phi_n(0) - \\Omega(0) + \\mathbf{d}_n \\cdot \\left[ \\mathbf{x}(t) - \\mathbf{x}(0) \\right] \\\\\n",
    "\\phi_n(t) &=& \\Phi(t) + \\bigg( \\big(\\phi_n(0) - \\Omega(0)\\big) + \\mathbf{d}_n \\cdot \\big[\\mathbf{x}(t) - \\mathbf{x}(0)\\big]\\bigg)\n",
    "\\end{eqnarray}\n",
    "$$"
   ]
  },
  {
   "cell_type": "markdown",
   "metadata": {},
   "source": [
    "\n",
    "Taking $N$ VCOs and summing them with some weight pattern gives us an interference pattern:\n",
    "\n",
    "$$\n",
    "\\begin{eqnarray}\n",
    "I(t) = \\sum^{N}_{n=1} w_n \\cos{\\phi_n(t)} = C(t)E(\\mathbf{x})\n",
    "\\end{eqnarray}\n",
    "$$\n",
    "where $w_n$ is the weight for the $n$th VCO. This gives us a time-varying carrier signal $C(t)$ and a spatially varying envelope signal $E(\\mathbf{x})$. Via \"a trick based on Euler's formula 1\", we get to this formula:\n",
    "\n",
    "$$ E(\\mathbf{x}) = \\biggl| \\sum_{n=1}^N w_n \\exp{(i \\delta_n(\\mathbf{x}))} \\biggr|$$\n",
    "\n",
    "In this code, we're really finding the envelopes to plot (rather than the true firing rate, which is analogous to the time-signal $I(t)$. So, for an individual VCO, what we're interested in is that value $\\exp{(i \\delta_n(\\mathbf{x}))}$. \n",
    "\n",
    "Our next step is to put $\\mathbf{d}_n$ in polar coordinates, such that $$\\mathbf{d}_n = [\\rho, \\theta]$$ Using the equation for $\\delta_n(\\mathbf{x}(t))$ above:\n",
    "\n",
    "$$\n",
    "\\begin{eqnarray}\n",
    "\\delta_n(\\mathbf{x}) &=& \\mathbf{d}_n \\cdot \\mathbf{x} + \\phi_n(0) - \\Omega(0) + \\mathbf{d}_n \\cdot  \\mathbf{x}(0) \\\\\n",
    "&=& [\\rho,\\theta] \\cdot [x,y] + \\xi_{m,n} \\\\\n",
    "&=& x \\rho  \\cos{(\\theta)} + y \\rho \\sin{(-\\theta)} + \\xi_{m,n}\n",
    "\\end{eqnarray}\n",
    "$$\n",
    "\n",
    "where $\\xi_{m,n}$ is the phase offset of the $m$th cell in the $n$th VCO. This finally brings us to the equation defining `cell_activity(cell, x, y)`:\n",
    "\n",
    "$$\n",
    "E(\\mathbf{x}) = \\exp{\\biggl( i \\bigl( x \\rho \\cos{(\\theta)} + y \\rho \\sin{(-\\theta)} + \\xi_{m,n}\\bigr) \\biggr)}\n",
    "$$"
   ]
  },
  {
   "cell_type": "markdown",
   "metadata": {},
   "source": [
    "### Demonstrating the VCO model\n",
    "\n",
    "The math is done for the moment, so we'll move on to demonstrate the VCO model. We'll start with a single VCO, showing its activity as we change the direction of the velocity vector while keeping its magnitude the same."
   ]
  },
  {
   "cell_type": "code",
   "execution_count": 3,
   "metadata": {},
   "outputs": [],
   "source": [
    "# Instantiate a VCO model\n",
    "rho = 0.14\n",
    "theta = np.pi+0.5\n",
    "N = 12\n",
    "VCO = VCO_model(N, rho, theta)"
   ]
  },
  {
   "cell_type": "code",
   "execution_count": 4,
   "metadata": {},
   "outputs": [],
   "source": [
    "# Create a simulated running path (constant velocity, running around in a circle)\n",
    "v = 2\n",
    "d = np.arange(0, 2 * np.pi, 0.001)\n",
    "x = v * np.cos(d)\n",
    "y = v * np.sin(d)"
   ]
  },
  {
   "cell_type": "code",
   "execution_count": 5,
   "metadata": {},
   "outputs": [],
   "source": [
    "# Modulate the activity around the theta freq (unnecessary when summing for grid cell)\n",
    "tune   = 7 + np.real(VCO.cell_activity(0,x,y))"
   ]
  },
  {
   "cell_type": "code",
   "execution_count": 6,
   "metadata": {},
   "outputs": [
    {
     "data": {
      "image/png": "[encoded data removed]",
      "text/plain": [
       "<matplotlib.figure.Figure at 0x7f929da85fd0>"
      ]
     },
     "metadata": {},
     "output_type": "display_data"
    }
   ],
   "source": [
    "# Plot the tuning curve\n",
    "plt.figure(figsize=(4,4))\n",
    "plt.title('VCO Tuning curve (cell 0/11)')\n",
    "plt.plot(d, tune)\n",
    "plt.ylabel('Frequency (Hz)')\n",
    "plt.xlabel('Direction')\n",
    "plt.xticks([0., .5*np.pi, np.pi, 1.5*np.pi, 2*np.pi],[\"$0$\", \"$\\pi/2$\", \"$\\pi$\",\"$3\\pi/2$\", \"$2 \\pi$\"]);\n",
    "plt.grid()"
   ]
  },
  {
   "cell_type": "markdown",
   "metadata": {},
   "source": [
    "This is what we'd like to see from a single VCO; basically, proof that the dot product between preferred direction and velocity is being calculated correctly - the VCO fires maximally at its preferred direction and minimally at its antipreferred direction."
   ]
  },
  {
   "cell_type": "markdown",
   "metadata": {},
   "source": [
    "### Combining VCOs in the VCO matrix\n",
    "Next we'll create Grid Cells, Place Cells, and Border Cells, following the VCO matrix connectivity described in the Welday paper. "
   ]
  },
  {
   "cell_type": "code",
   "execution_count": 11,
   "metadata": {},
   "outputs": [],
   "source": [
    "# Create the 6-by-12 VCO matrix\n",
    "rhos = 0.14 * (np.sqrt(3) ** np.arange(6))\n",
    "thetas = np.pi + 2.0*np.pi*(np.arange(N))/N\n",
    "\n",
    "numrow = 6; numcol = 12;\n",
    "\n",
    "VCOmatrix = [[VCO_model(N, rhos[i], thetas[j]) for j in range(numcol)] for i in range(numrow)]"
   ]
  },
  {
   "cell_type": "code",
   "execution_count": 39,
   "metadata": {},
   "outputs": [],
   "source": [
    "# Helper function to plot connection weights\n",
    "def plot_weights(weights):\n",
    "    # Plot weights matrix\n",
    "    (y_size, x_size) = weights.shape\n",
    "    plt.figure()#figsize=(10,10))\n",
    "    im = plt.imshow(weights,cmap='jet',origin='lower')\n",
    "    ax = plt.gca()\n",
    "    plt.title('Weights Matrix')\n",
    "    ax.grid(which='both', color='lightgray', linestyle='-', linewidth=2)\n",
    "    ax.set_xticks(np.arange(-0.5,x_size,1))\n",
    "    ax.set_yticks(np.arange(-0.5,y_size,1))\n",
    "    ax.set_xticklabels(np.arange(0, 12, 1))\n",
    "    ax.set_yticklabels(np.arange(0, 6, 1))\n",
    "    divider = make_axes_locatable(ax)\n",
    "    cax = divider.append_axes(\"right\", size=\"5%\", pad=0.25)\n",
    "    plt.colorbar(im, cax=cax)"
   ]
  },
  {
   "cell_type": "code",
   "execution_count": 40,
   "metadata": {},
   "outputs": [
    {
     "data": {
      "image/png": "[encoded data removed]",
      "text/plain": [
       "<matplotlib.figure.Figure at 0x7f929c6fee48>"
      ]
     },
     "metadata": {},
     "output_type": "display_data"
    }
   ],
   "source": [
    "# Create array of weights for the matrix to make a grid cell\n",
    "weights_grid = np.full([numrow, numcol], np.nan)\n",
    "weights_grid[3,1] = 1; weights_grid[3,5] = 9; weights_grid[3,9] = 3\n",
    "plot_weights(weights_grid)"
   ]
  },
  {
   "cell_type": "code",
   "execution_count": 41,
   "metadata": {},
   "outputs": [],
   "source": [
    "# Helper function for matrix that sums activity of cells indicated in weights matrix (weights = 1)\n",
    "def matrix_sum(matrix, weights, size):\n",
    "    # Create mesh grid to tile space of [[-size, size],[-size, size]]\n",
    "    ss = np.linspace(-size,size,10*size)\n",
    "    xx, yy = np.meshgrid(ss,ss)\n",
    "    \n",
    "    # Find sum of responses from all cells identified in weights matrix\n",
    "    response_sum = np.zeros([10*size,10*size],dtype='complex128')\n",
    "    for row in range(weights.shape[0]):\n",
    "        for col in range(weights.shape[1]):\n",
    "            if not np.isnan(weights[row,col]):\n",
    "                cell_response = matrix[row][col].cell_activity(int(weights[row,col]), xx, yy)\n",
    "                response_sum = response_sum + cell_response\n",
    "\n",
    "    # Normalize and threshold at 65% of the maximum response\n",
    "    response_sum = abs(response_sum)\n",
    "    max_response = np.max(response_sum)\n",
    "    thresh = response_sum - 0.65*max_response\n",
    "    thresh[thresh<0] = 0\n",
    "    max_response = np.max(thresh)\n",
    "    response_norm = thresh / max_response\n",
    "    return response_norm, response_sum\n"
   ]
  },
  {
   "cell_type": "code",
   "execution_count": 45,
   "metadata": {},
   "outputs": [],
   "source": [
    "arena_size = 5;\n",
    "grid_norm, grid_sum = matrix_activity(VCOmatrix, weights_grid, arena_size)"
   ]
  },
  {
   "cell_type": "code",
   "execution_count": 46,
   "metadata": {},
   "outputs": [
    {
     "data": {
      "text/plain": [
       "<matplotlib.image.AxesImage at 0x7f929c627908>"
      ]
     },
     "execution_count": 46,
     "metadata": {},
     "output_type": "execute_result"
    },
    {
     "data": {
      "image/png": "[encoded data removed]",
      "text/plain": [
       "<matplotlib.figure.Figure at 0x7f929c691400>"
      ]
     },
     "metadata": {},
     "output_type": "display_data"
    }
   ],
   "source": [
    "plt.imshow(grid_norm,cmap='jet')"
   ]
  },
  {
   "cell_type": "code",
   "execution_count": 47,
   "metadata": {},
   "outputs": [
    {
     "data": {
      "image/png": "[encoded data removed]",
      "text/plain": [
       "<matplotlib.figure.Figure at 0x7f929c6123c8>"
      ]
     },
     "metadata": {},
     "output_type": "display_data"
    }
   ],
   "source": [
    "# Create array of weights for the matrix to make a place cell\n",
    "weights_place_1 = np.full([numrow, numcol], np.nan)\n",
    "weights_place_1[2,:] = [11,11,0,0,0,0,0,0,11,10,10,10]\n",
    "weights_place_1[3,:] = [10,11,0,0,0,0,0,0,10,10,10,10]\n",
    "weights_place_1[4,:] = [10,11,0,1,2,1,0,0,10, 9, 8, 9]\n",
    "plot_weights(weights_place_1)"
   ]
  },
  {
   "cell_type": "code",
   "execution_count": 52,
   "metadata": {},
   "outputs": [],
   "source": [
    "place_1_norm, place_1_sum = matrix_activity(VCOmatrix, weights_place_1, arena_size)"
   ]
  },
  {
   "cell_type": "code",
   "execution_count": 53,
   "metadata": {},
   "outputs": [
    {
     "data": {
      "text/plain": [
       "<matplotlib.image.AxesImage at 0x7f929c991400>"
      ]
     },
     "execution_count": 53,
     "metadata": {},
     "output_type": "execute_result"
    },
    {
     "data": {
      "image/png": "[encoded data removed]",
      "text/plain": [
       "<matplotlib.figure.Figure at 0x7f929c662358>"
      ]
     },
     "metadata": {},
     "output_type": "display_data"
    }
   ],
   "source": [
    "plt.imshow(place_1_norm, cmap='jet')"
   ]
  },
  {
   "cell_type": "code",
   "execution_count": 120,
   "metadata": {},
   "outputs": [
    {
     "data": {
      "image/png": "[encoded data removed]",
      "text/plain": [
       "<matplotlib.figure.Figure at 0x7f929c0a3358>"
      ]
     },
     "metadata": {},
     "output_type": "display_data"
    }
   ],
   "source": [
    "# And now, a multi-field place cell\n",
    "weights_place_2 = np.full([numrow, numcol], np.nan)\n",
    "weights_place_2[2,:] = [8,0,1,1,7,4,2,7,8,8,4,2]\n",
    "weights_place_2[3,:] = [3,0,3,0,5,0,1,4,5,9,9,11]\n",
    "weights_place_2[4,:] = [0,2,2,10,7,0,0,5,6,2,6,4]\n",
    "plot_weights(weights_place_2)"
   ]
  },
  {
   "cell_type": "code",
   "execution_count": 118,
   "metadata": {},
   "outputs": [],
   "source": [
    "place_2_norm, place_2_sum = matrix_activity(VCOmatrix, weights_place_2, arena_size)"
   ]
  },
  {
   "cell_type": "code",
   "execution_count": 119,
   "metadata": {},
   "outputs": [
    {
     "data": {
      "text/plain": [
       "<matplotlib.image.AxesImage at 0x7f929c0bea20>"
      ]
     },
     "execution_count": 119,
     "metadata": {},
     "output_type": "execute_result"
    },
    {
     "data": {
      "image/png": "[encoded data removed]",
      "text/plain": [
       "<matplotlib.figure.Figure at 0x7f929c1446d8>"
      ]
     },
     "metadata": {},
     "output_type": "display_data"
    }
   ],
   "source": [
    "plt.imshow(place_2_norm, cmap='jet')"
   ]
  },
  {
   "cell_type": "code",
   "execution_count": null,
   "metadata": {},
   "outputs": [],
   "source": []
  }
 ],
 "metadata": {
  "kernelspec": {
   "display_name": "Python 3",
   "language": "python",
   "name": "python3"
  },
  "language_info": {
   "codemirror_mode": {
    "name": "ipython",
    "version": 3
   },
   "file_extension": ".py",
   "mimetype": "text/x-python",
   "name": "python",
   "nbconvert_exporter": "python",
   "pygments_lexer": "ipython3",
   "version": "3.6.4"
  }
 },
 "nbformat": 4,
 "nbformat_minor": 2
}
