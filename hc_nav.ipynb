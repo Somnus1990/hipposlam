{
 "cells": [
  {
   "cell_type": "markdown",
   "metadata": {},
   "source": [
    "## Random projections of VCOmatrix rows"
   ]
  },
  {
   "cell_type": "code",
   "execution_count": null,
   "metadata": {
    "collapsed": true
   },
   "outputs": [],
   "source": [
    "num_inputs = 3\n",
    "\n",
    "w = np.full([6,12], np.nan)\n",
    "random_cells = np.random.randint(12, size=num_inputs)\n",
    "random_cols = np.arange(12)\n",
    "np.random.shuffle(random_cols)\n",
    "\n",
    "w_x = np.random.randint(6)\n",
    "#w_x = 1\n",
    "w_y = random_cols[:num_inputs]\n",
    "\n",
    "for i in range(num_inputs):\n",
    "    w[w_x, w_y[i]] = random_cells[i]\n",
    "\n",
    "#plot_weights(w)"
   ]
  },
  {
   "cell_type": "code",
   "execution_count": null,
   "metadata": {
    "scrolled": false
   },
   "outputs": [],
   "source": [
    "Esum = np.zeros([50,50],dtype='complex128')\n",
    "for row in range(w.shape[0]):\n",
    "    for col in range(w.shape[1]):\n",
    "        if (not np.isnan(w[row,col])):\n",
    "            cell_response = VCO_matrix[row][col].cell_activity_2(int(w[row,col]), xx, yy)\n",
    "            Esum = Esum + cell_response\n",
    "\n",
    "Esum = abs(Esum)\n",
    "Emax = np.max(Esum)\n",
    "EE = Esum-0.65*Emax\n",
    "EE[EE<0] = 0\n",
    "Emax =np.max(EE)\n",
    "\n",
    "plt.figure(figsize=(18,6))\n",
    "\n",
    "\n",
    "plt.subplot(131)\n",
    "(x_size, y_size) = w.shape\n",
    "im = plt.imshow(w,cmap='jet',origin='lower')\n",
    "ax = plt.gca()\n",
    "plt.title('Weights Matrix')\n",
    "ax.grid(which='both', color='lightgray', linestyle='-', linewidth=2)\n",
    "ax.set_xticks(np.arange(-0.5,12,1))\n",
    "ax.set_yticks(np.arange(-0.5,6,1))\n",
    "ax.set_xticklabels(np.arange(0, 12, 1))\n",
    "ax.set_yticklabels(np.arange(0, 6, 1))\n",
    "divider = make_axes_locatable(ax)\n",
    "cax = divider.append_axes(\"right\", size=\"5%\", pad=0.25)\n",
    "plt.colorbar(im, cax=cax)\n",
    "plt.subplot(132)\n",
    "plt.title('Envelope (Sum of Noiseless VCOs)')\n",
    "plt.imshow(Esum,aspect='auto',cmap='jet',extent=(-5,5,-5,5))\n",
    "plt.subplot(133)\n",
    "plt.title('Noiseless \"Firing rate\" (thresholded envelope)')\n",
    "plt.imshow(EE/Emax,extent=(-5,5,-5,5),aspect='auto',cmap='jet')"
   ]
  },
  {
   "cell_type": "markdown",
   "metadata": {},
   "source": [
    "Higher $w_x$ values (corresponding to lower rows in the weights matrix) correspond to higher frequency grids. Higher $w_x$ values correspond to higher $\\rho$ values, so these VCOs are more sensitive to velocity (I think...). By looking at a larger arena, we can see the gridness of the small $w_x$ values."
   ]
  },
  {
   "cell_type": "code",
   "execution_count": null,
   "metadata": {
    "collapsed": true
   },
   "outputs": [],
   "source": [
    "size = 50\n",
    "\n",
    "ss_big = np.linspace(-size,size,10*size)\n",
    "xx_big, yy_big = np.meshgrid(ss_big,ss_big)\n",
    "if w_x < 2:\n",
    "    Esum = np.zeros([10*size,10*size],dtype='complex128')\n",
    "    for row in range(w.shape[0]):\n",
    "        for col in range(w.shape[1]):\n",
    "            if (not np.isnan(w[row,col])):\n",
    "                cell_response = VCO_matrix[row][col].cell_activity_2(int(w[row,col]), xx_big, yy_big)\n",
    "                Esum = Esum + cell_response\n",
    "\n",
    "    Esum = abs(Esum)\n",
    "    Emax = np.max(Esum)\n",
    "    EE = Esum-0.65*Emax\n",
    "    EE[EE<0] = 0\n",
    "    Emax =np.max(EE)\n",
    "\n",
    "    plt.figure(figsize=(18,6))\n",
    "\n",
    "\n",
    "    plt.subplot(131)\n",
    "    (x_size, y_size) = w.shape\n",
    "    im = plt.imshow(w,cmap='jet')\n",
    "    ax = plt.gca()\n",
    "    plt.title('Weights Matrix')\n",
    "    ax.grid(which='both', color='lightgray', linestyle='-', linewidth=2)\n",
    "    ax.set_xticks(np.arange(-0.5,12,1))\n",
    "    ax.set_yticks(np.arange(-0.5,6,1))\n",
    "    ax.set_xticklabels(np.arange(0, 12, 1))\n",
    "    ax.set_yticklabels(np.arange(0, 6, 1))\n",
    "    divider = make_axes_locatable(ax)\n",
    "    cax = divider.append_axes(\"right\", size=\"5%\", pad=0.25)\n",
    "    plt.colorbar(im, cax=cax)\n",
    "    plt.subplot(132)\n",
    "    plt.title('Envelope (Sum of Noiseless VCOs)')\n",
    "    plt.imshow(Esum,aspect='auto',cmap='jet')\n",
    "    plt.subplot(133)\n",
    "    plt.title('Noiseless \"Firing rate\" (thresholded envelope)')\n",
    "    plt.imshow(EE/Emax,extent=(-size,size,-size,size),aspect='auto',cmap='jet')"
   ]
  },
  {
   "cell_type": "markdown",
   "metadata": {},
   "source": [
    "It makes sense that we should have 3 inputs to create a hexagonal grid: which cells in which columns determine the phases and orientations of the added sinusoids.\n",
    "\n",
    "#### Things to try out:\n",
    "- What effect does changing cell choices have on the output grid?\n",
    "- What effect does changing cell column but retaining cell choices have on the output grid?\n",
    "- What effect does changing cell row but retaining etc. have on the output grid?"
   ]
  },
  {
   "cell_type": "markdown",
   "metadata": {},
   "source": [
    "### Demo: Shift grid through cell choices\n",
    "Each ring oscillator determines a particular spatial component of the interference pattern; changing the cell choice in the specified ring oscillators shifts the grid along one of the three axes."
   ]
  },
  {
   "cell_type": "code",
   "execution_count": null,
   "metadata": {},
   "outputs": [],
   "source": [
    "size = 10\n",
    "\n",
    "weights = np.full([6,12], np.nan)\n",
    "weights[3,1] = 5\n",
    "weights[3,7] = 9\n",
    "weights[3,10] = 4\n",
    "\n",
    "orig_norm, orig_sum = hcn_activity(VCO_matrix_noisy, weights, size)\n",
    "plt.figure(figsize=(12,8))\n",
    "\n",
    "axw = plt.subplot2grid((3,4),(0,1),colspan=2)\n",
    "(x_size, y_size) = weights.shape\n",
    "im = plt.imshow(weights,cmap='jet',origin='lower')\n",
    "ax = plt.gca()\n",
    "plt.title('Weights Matrix')\n",
    "ax.grid(which='both', color='lightgray', linestyle='-', linewidth=2)\n",
    "ax.set_xticks(np.arange(-0.5,12,1))\n",
    "ax.set_yticks(np.arange(-0.5,6,1))\n",
    "ax.set_xticklabels(np.arange(0, 12, 1))\n",
    "ax.set_yticklabels(np.arange(0, 6, 1))\n",
    "divider = make_axes_locatable(ax)\n",
    "cax = divider.append_axes(\"right\", size=\"5%\", pad=0.25)\n",
    "plt.colorbar(im, cax=cax)\n",
    "\n",
    "axL = plt.subplot2grid((3,4),(1,0),colspan=2,rowspan=2)\n",
    "plt.imshow(orig_sum,extent=(-size,size,-size,size),aspect='auto',cmap='jet')\n",
    "\n",
    "axR = plt.subplot2grid((3,4),(1,2),colspan=2,rowspan=2)\n",
    "plt.imshow(orig_norm,extent=(-size,size,-size,size),aspect='auto',cmap='jet')\n",
    "\n",
    "plt.tight_layout()"
   ]
  },
  {
   "cell_type": "code",
   "execution_count": null,
   "metadata": {
    "collapsed": true
   },
   "outputs": [],
   "source": [
    "weights_al = np.copy(weights)\n",
    "weights_al[3,1] = weights[3,1] - 1\n",
    "al_norm, al_sum = hcn_activity(VCO_matrix_noisy,weights_al,size)\n",
    "weights_ag = np.copy(weights)\n",
    "weights_ag[3,1] = weights[3,1] + 1\n",
    "ag_norm, ag_sum = hcn_activity(VCO_matrix_noisy,weights_ag,size)\n",
    "weights_bl = np.copy(weights)\n",
    "weights_bl[3,7] = weights[3,7] - 1\n",
    "bl_norm, bl_sum = hcn_activity(VCO_matrix_noisy,weights_bl,size)\n",
    "weights_bg = np.copy(weights)\n",
    "weights_bg[3,7] = weights[3,7] + 1\n",
    "bg_norm, bg_sum = hcn_activity(VCO_matrix_noisy,weights_bg,size)\n",
    "weights_cl = np.copy(weights)\n",
    "weights_cl[3,10] = weights[3,10] - 1\n",
    "cl_norm, cl_sum = hcn_activity(VCO_matrix_noisy,weights_cl,size)\n",
    "weights_cg = np.copy(weights)\n",
    "weights_cg[3,10] = weights[3,10] + 1\n",
    "cg_norm, cg_sum = hcn_activity(VCO_matrix_noisy,weights_cg,size)"
   ]
  },
  {
   "cell_type": "code",
   "execution_count": null,
   "metadata": {},
   "outputs": [],
   "source": [
    "plt.figure(figsize=(10,10))\n",
    "plt.subplot(3,4,1)\n",
    "plt.title('w[3,1] - 1 (sum)')\n",
    "plt.imshow(al_sum - orig_sum)\n",
    "plt.subplot(3,4,2)\n",
    "plt.title('w[3,1] + 1 (sum)')\n",
    "plt.imshow(ag_sum - orig_sum)\n",
    "plt.subplot(3,4,3)\n",
    "plt.title('w[3,1] - 1 (norm)')\n",
    "plt.imshow(al_norm - orig_norm)\n",
    "plt.subplot(3,4,4)\n",
    "plt.title('w[3,1] + 1 (norm)')\n",
    "plt.imshow(ag_norm - orig_norm)\n",
    "plt.subplot(3,4,5)\n",
    "plt.title('w[3,7] - 1 (sum)')\n",
    "plt.imshow(bl_sum - orig_sum)\n",
    "plt.subplot(3,4,6)\n",
    "plt.title('w[3,7] + 1 (sum)')\n",
    "plt.imshow(bg_sum - orig_sum)\n",
    "plt.subplot(3,4,7)\n",
    "plt.title('w[3,7] - 1 (norm)')\n",
    "plt.imshow(bl_norm - orig_norm)\n",
    "plt.subplot(3,4,8)\n",
    "plt.title('w[3,7] + 1 (norm)')\n",
    "plt.imshow(bg_norm - orig_norm)\n",
    "plt.subplot(3,4,9)\n",
    "plt.title('w[3,10] - 1 (sum)')\n",
    "plt.imshow(cl_sum - orig_sum)\n",
    "plt.subplot(3,4,10)\n",
    "plt.title('w[3,10] + 1 (sum)')\n",
    "plt.imshow(cg_sum - orig_sum)\n",
    "plt.subplot(3,4,11)\n",
    "plt.title('w[3,10] - 1 (norm)')\n",
    "plt.imshow(cl_norm - orig_norm)\n",
    "plt.subplot(3,4,12)\n",
    "plt.title('w[3,10] + 1 (norm)')\n",
    "plt.imshow(cg_norm - orig_norm)\n"
   ]
  },
  {
   "cell_type": "markdown",
   "metadata": {},
   "source": [
    "### Demo: Changing cell columns\n",
    "Column has to do with $\\theta$, i.e. preferred direction... so maybe this has something to do with that? It's unclear so far, but should definitely be looked into."
   ]
  },
  {
   "cell_type": "code",
   "execution_count": null,
   "metadata": {},
   "outputs": [],
   "source": [
    "size = 20\n",
    "\n",
    "weights = np.full([6,12], np.nan)\n",
    "weights[3,1] = 5\n",
    "weights[3,7] = 9\n",
    "weights[3,10] = 4\n",
    "\n",
    "orig_norm, orig_sum = hcn_activity(VCO_matrix_noisy, weights, size)\n",
    "plt.figure(figsize=(12,8))\n",
    "\n",
    "axw = plt.subplot2grid((3,4),(0,1),colspan=2)\n",
    "(x_size, y_size) = weights.shape\n",
    "im = plt.imshow(weights,cmap='jet',origin='lower')\n",
    "ax = plt.gca()\n",
    "plt.title('Weights Matrix')\n",
    "ax.grid(which='both', color='lightgray', linestyle='-', linewidth=2)\n",
    "ax.set_xticks(np.arange(-0.5,12,1))\n",
    "ax.set_yticks(np.arange(-0.5,6,1))\n",
    "ax.set_xticklabels(np.arange(0, 12, 1))\n",
    "ax.set_yticklabels(np.arange(0, 6, 1))\n",
    "divider = make_axes_locatable(ax)\n",
    "cax = divider.append_axes(\"right\", size=\"5%\", pad=0.25)\n",
    "plt.colorbar(im, cax=cax)\n",
    "\n",
    "axL = plt.subplot2grid((3,4),(1,0),colspan=2,rowspan=2)\n",
    "plt.imshow(orig_sum,extent=(-size,size,-size,size),aspect='auto',cmap='jet')\n",
    "\n",
    "axR = plt.subplot2grid((3,4),(1,2),colspan=2,rowspan=2)\n",
    "plt.imshow(orig_norm,extent=(-size,size,-size,size),aspect='auto',cmap='jet')"
   ]
  },
  {
   "cell_type": "code",
   "execution_count": null,
   "metadata": {
    "collapsed": true
   },
   "outputs": [],
   "source": [
    "w_AL = np.copy(weights)\n",
    "w_AL[3,0] = weights[3,1]; w_AL[3,1] = np.nan;\n",
    "w_AR = np.copy(weights)\n",
    "w_AR[3,2] = weights[3,1]; w_AR[3,1] = np.nan;\n",
    "w_BL = np.copy(weights)\n",
    "w_BL[3,6] = weights[3,7]; w_BL[3,7] = np.nan;\n",
    "w_BR = np.copy(weights)\n",
    "w_BR[3,8] = weights[3,7]; w_BR[3,7] = np.nan;\n",
    "w_CL = np.copy(weights)\n",
    "w_CL[3,9] = weights[3,10]; w_CL[3,10] = np.nan;\n",
    "w_CR = np.copy(weights)\n",
    "w_CR[3,11] = weights[3,10]; w_CR[3,10] = np.nan;\n"
   ]
  },
  {
   "cell_type": "code",
   "execution_count": null,
   "metadata": {
    "collapsed": true
   },
   "outputs": [],
   "source": [
    "AL_norm, AL_sum = hcn_activity(VCO_matrix_noisy,w_AL,size)\n",
    "AR_norm, AR_sum = hcn_activity(VCO_matrix_noisy,w_AR,size)\n",
    "BL_norm, BL_sum = hcn_activity(VCO_matrix_noisy,w_BL,size)\n",
    "BR_norm, BR_sum = hcn_activity(VCO_matrix_noisy,w_BR,size)\n",
    "CL_norm, CL_sum = hcn_activity(VCO_matrix_noisy,w_CL,size)\n",
    "CR_norm, CR_sum = hcn_activity(VCO_matrix_noisy,w_CR,size)"
   ]
  },
  {
   "cell_type": "code",
   "execution_count": null,
   "metadata": {},
   "outputs": [],
   "source": [
    "plt.figure(figsize=(10,10))\n",
    "plt.subplot(3,4,1)\n",
    "plt.title('AL (sum)')\n",
    "plt.imshow(AL_sum - orig_sum)\n",
    "plt.subplot(3,4,2)\n",
    "plt.title('AR (sum)')\n",
    "plt.imshow(AR_sum - orig_sum)\n",
    "plt.subplot(3,4,3)\n",
    "plt.title('AL (norm)')\n",
    "plt.imshow(AL_norm - orig_norm)\n",
    "plt.subplot(3,4,4)\n",
    "plt.title('AR (norm)')\n",
    "plt.imshow(AR_norm - orig_norm)\n",
    "plt.subplot(3,4,5)\n",
    "plt.title('BL (sum)')\n",
    "plt.imshow(BL_sum - orig_sum)\n",
    "plt.subplot(3,4,6)\n",
    "plt.title('BR (sum)')\n",
    "plt.imshow(BR_sum - orig_sum)\n",
    "plt.subplot(3,4,7)\n",
    "plt.title('BL (norm)')\n",
    "plt.imshow(BL_norm - orig_norm)\n",
    "plt.subplot(3,4,8)\n",
    "plt.title('BR (norm)')\n",
    "plt.imshow(BR_norm - orig_norm)\n",
    "plt.subplot(3,4,9)\n",
    "plt.title('CL (sum)')\n",
    "plt.imshow(CL_sum - orig_sum)\n",
    "plt.subplot(3,4,10)\n",
    "plt.title('CR (sum)')\n",
    "plt.imshow(CR_sum - orig_sum)\n",
    "plt.subplot(3,4,11)\n",
    "plt.title('CL (norm)')\n",
    "plt.imshow(CL_norm - orig_norm)\n",
    "plt.subplot(3,4,12)\n",
    "plt.title('CR (norm)')\n",
    "plt.imshow(CR_norm - orig_norm)"
   ]
  },
  {
   "cell_type": "code",
   "execution_count": null,
   "metadata": {},
   "outputs": [],
   "source": [
    "plt.figure(figsize=(12,12))\n",
    "plt.subplot(3,3,1)\n",
    "plt.title('orig_norm')\n",
    "plt.imshow(orig_norm, cmap='jet')\n",
    "plt.subplot(3,3,2)\n",
    "plt.title('AL norm')\n",
    "plt.imshow(AL_norm, cmap='jet')\n",
    "plt.subplot(3,3,3)\n",
    "plt.title('AR norm')\n",
    "plt.imshow(AR_norm, cmap='jet')\n",
    "plt.subplot(3,3,4)\n",
    "plt.title('orig_norm')\n",
    "plt.imshow(orig_norm, cmap='jet')\n",
    "plt.subplot(3,3,5)\n",
    "plt.title('BL norm')\n",
    "plt.imshow(BL_norm, cmap='jet')\n",
    "plt.subplot(3,3,6)\n",
    "plt.title('BR norm')\n",
    "plt.imshow(BR_norm, cmap='jet')\n",
    "plt.subplot(3,3,7)\n",
    "plt.title('orig_norm')\n",
    "plt.imshow(orig_norm, cmap='jet')\n",
    "plt.subplot(3,3,8)\n",
    "plt.title('CL norm')\n",
    "plt.imshow(CL_norm, cmap='jet')\n",
    "plt.subplot(3,3,9)\n",
    "plt.title('CR norm')\n",
    "plt.imshow(CR_norm, cmap='jet')\n",
    "\n",
    "plt.tight_layout()"
   ]
  },
  {
   "cell_type": "markdown",
   "metadata": {},
   "source": [
    "### Demo: Changing cell rows"
   ]
  },
  {
   "cell_type": "code",
   "execution_count": null,
   "metadata": {},
   "outputs": [],
   "source": [
    "size = 10\n",
    "\n",
    "weights = np.full([6,12], np.nan)\n",
    "weights[3,1] = 5\n",
    "weights[3,7] = 9\n",
    "weights[3,10] = 4\n",
    "\n",
    "orig_norm, orig_sum = hcn_activity(VCO_matrix_noisy, weights, size)\n",
    "plt.figure(figsize=(12,8))\n",
    "\n",
    "axw = plt.subplot2grid((3,4),(0,1),colspan=2)\n",
    "(x_size, y_size) = weights.shape\n",
    "im = plt.imshow(weights,cmap='jet',origin='lower')\n",
    "ax = plt.gca()\n",
    "plt.title('Weights Matrix')\n",
    "ax.grid(which='both', color='lightgray', linestyle='-', linewidth=2)\n",
    "ax.set_xticks(np.arange(-0.5,12,1))\n",
    "ax.set_yticks(np.arange(-0.5,6,1))\n",
    "ax.set_xticklabels(np.arange(0, 12, 1))\n",
    "ax.set_yticklabels(np.arange(0, 6, 1))\n",
    "divider = make_axes_locatable(ax)\n",
    "cax = divider.append_axes(\"right\", size=\"5%\", pad=0.25)\n",
    "plt.colorbar(im, cax=cax)\n",
    "\n",
    "axL = plt.subplot2grid((3,4),(1,0),colspan=2,rowspan=2)\n",
    "plt.imshow(orig_sum,extent=(-size,size,-size,size),aspect='auto',cmap='jet')\n",
    "\n",
    "axR = plt.subplot2grid((3,4),(1,2),colspan=2,rowspan=2)\n",
    "plt.imshow(orig_norm,extent=(-size,size,-size,size),aspect='auto',cmap='jet')\n",
    "plt.tight_layout()"
   ]
  },
  {
   "cell_type": "markdown",
   "metadata": {},
   "source": [
    "Here (above) we plot the original grid cell, which sums inputs from three VCOs that have the following conditions:"
   ]
  },
  {
   "cell_type": "code",
   "execution_count": null,
   "metadata": {},
   "outputs": [],
   "source": [
    "print(VCO_matrix_noisy[3][1])\n",
    "print(VCO_matrix_noisy[3][7])\n",
    "print(VCO_matrix_noisy[3][10])"
   ]
  },
  {
   "cell_type": "code",
   "execution_count": null,
   "metadata": {
    "collapsed": true
   },
   "outputs": [],
   "source": [
    "weights_up1 = np.copy(weights)\n",
    "weights_up1[2,:] = weights[3,:]; weights_up1[3,:] = np.nan\n",
    "weights_up2 = np.copy(weights)\n",
    "weights_up2[1,:] = weights[3,:]; weights_up2[3,:] = np.nan\n",
    "weights_dn1 = np.copy(weights)\n",
    "weights_dn1[4,:] = weights[3,:]; weights_dn1[3,:] = np.nan\n",
    "weights_dn2 = np.copy(weights)\n",
    "weights_dn2[5,:] = weights[3,:]; weights_dn2[3,:] = np.nan"
   ]
  },
  {
   "cell_type": "code",
   "execution_count": null,
   "metadata": {
    "collapsed": true
   },
   "outputs": [],
   "source": [
    "up1_norm, up1_sum = hcn_activity(VCO_matrix_noisy,weights_up1,size)\n",
    "up2_norm, up2_sum = hcn_activity(VCO_matrix_noisy,weights_up2,size)\n",
    "dn1_norm, dn1_sum = hcn_activity(VCO_matrix_noisy,weights_dn1,size)\n",
    "dn2_norm, dn2_sum = hcn_activity(VCO_matrix_noisy,weights_dn2,size)"
   ]
  },
  {
   "cell_type": "code",
   "execution_count": null,
   "metadata": {},
   "outputs": [],
   "source": [
    "for row in range(weights_up1.shape[0]):\n",
    "    for col in range(weights_up1.shape[1]):\n",
    "        if (not np.isnan(weights_dn2[row,col])):\n",
    "            print(VCO_matrix_noisy[row][col])"
   ]
  },
  {
   "cell_type": "code",
   "execution_count": null,
   "metadata": {},
   "outputs": [],
   "source": [
    "plt.figure(figsize=(14,6))\n",
    "plt.subplot(2,5,1)\n",
    "plt.imshow(up2_sum,cmap='jet')\n",
    "plt.title(r'$\\rho = 0.24249$ (sum)')\n",
    "plt.subplot(2,5,6)\n",
    "plt.imshow(up2_norm,cmap='jet')\n",
    "plt.title(r'$\\rho = 0.24249$ (norm)')\n",
    "plt.subplot(2,5,2)\n",
    "plt.imshow(up1_sum,cmap='jet')\n",
    "plt.title(r'$\\rho = 0.42$ (sum)')\n",
    "plt.subplot(2,5,7)\n",
    "plt.imshow(up1_norm,cmap='jet')\n",
    "plt.title(r'$\\rho = 0.42$ (norm)')\n",
    "plt.subplot(2,5,3)\n",
    "plt.imshow(orig_sum,cmap='jet')\n",
    "plt.title(r'$\\rho = 0.72746$ (sum)')\n",
    "plt.subplot(2,5,8)\n",
    "plt.imshow(orig_norm,cmap='jet')\n",
    "plt.title(r'$\\rho = 0.72746$ (norm)')\n",
    "plt.subplot(2,5,4)\n",
    "plt.imshow(dn1_sum,cmap='jet')\n",
    "plt.title(r'$\\rho = 1.26$ (sum)')\n",
    "plt.subplot(2,5,9)\n",
    "plt.imshow(dn1_norm,cmap='jet')\n",
    "plt.title(r'$\\rho = 1.26$ (norm)')\n",
    "plt.subplot(2,5,5)\n",
    "plt.imshow(dn2_sum,cmap='jet')\n",
    "plt.title(r'$\\rho = 2.18238$ (sum)')\n",
    "plt.subplot(2,5,10)\n",
    "plt.imshow(dn2_norm,cmap='jet')\n",
    "plt.title(r'$\\rho = 2.18238$ (norm)')\n",
    "\n",
    "plt.tight_layout()"
   ]
  },
  {
   "cell_type": "markdown",
   "metadata": {},
   "source": [
    "## Creating a series of random-projection grid cells"
   ]
  },
  {
   "cell_type": "code",
   "execution_count": null,
   "metadata": {
    "collapsed": true
   },
   "outputs": [],
   "source": [
    "ringsize = 12\n",
    "minrho = 0.14\n",
    "rotation_angle = 0\n",
    "rhos = minrho * (np.sqrt(3)**(np.arange(6)))\n",
    "thetas = np.pi + rotation_angle + 2*np.pi*(np.arange(12))/12. \n",
    "jitter = 1\n",
    "\n",
    "VCOmat = [[],[],[],[],[],[]]\n",
    "for row in range(6):\n",
    "    for col in range(12):\n",
    "        VCOmat[row].append(RingOscillator(ringsize, rhos[row], thetas[col], jitter))"
   ]
  },
  {
   "cell_type": "code",
   "execution_count": null,
   "metadata": {
    "collapsed": true
   },
   "outputs": [],
   "source": [
    "n_input = 3\n",
    "n_mats = 1000\n",
    "rd_gweights = np.full([6,12,n_mats], np.nan)\n",
    "\n",
    "for mat in range(n_mats):\n",
    "    random_cells = np.random.randint(12, size=num_inputs)\n",
    "    random_cols = np.arange(12)\n",
    "    np.random.shuffle(random_cols)\n",
    "    w_x = np.random.randint(6)\n",
    "    w_y = random_cols[:num_inputs]\n",
    "\n",
    "    for i in range(n_input):\n",
    "        rd_gweights[w_x, w_y[i],mat] = random_cells[i]\n"
   ]
  },
  {
   "cell_type": "code",
   "execution_count": null,
   "metadata": {
    "collapsed": true
   },
   "outputs": [],
   "source": [
    "size = 10\n",
    "rd_gnorms = np.zeros((10*size,10*size,n_mats))"
   ]
  },
  {
   "cell_type": "code",
   "execution_count": null,
   "metadata": {
    "collapsed": true
   },
   "outputs": [],
   "source": [
    "for i in range(n_mats):\n",
    "    gnorm, _ = hcn_activity(VCOmat, rd_gweights[:,:,i], size)\n",
    "    rd_gnorms[:,:,i] = gnorm"
   ]
  },
  {
   "cell_type": "code",
   "execution_count": null,
   "metadata": {
    "scrolled": false
   },
   "outputs": [],
   "source": [
    "fig, axes = plt.subplots(nrows=5, ncols=5, sharex=True, sharey=True, figsize=(10,10))\n",
    "axes_list = [item for sublist in axes for item in sublist] \n",
    "\n",
    "for idx in range(25):\n",
    "    ax = axes_list.pop(0)\n",
    "    #selection.plot(x='Year', y='GDP_per_capita', label=countryname, ax=ax, legend=False, clip_on=False)\n",
    "    ax.imshow(rd_gnorms[:,:,idx],cmap='jet',extent=(-size,size,-size,size))\n",
    "    ax.set_title(idx)\n",
    "    #'''\n",
    "    ax.tick_params(\n",
    "        which='both',\n",
    "        bottom='off',\n",
    "        left='off',\n",
    "        right='off',\n",
    "        top='off'\n",
    "    )\n",
    "    ax.spines['left'].set_visible(False)\n",
    "    ax.spines['top'].set_visible(False)\n",
    "    ax.spines['right'].set_visible(False)\n",
    "    ax.spines['bottom'].set_visible(False)\n",
    "    #'''\n",
    "\n",
    "# Now use the matplotlib .remove() method to \n",
    "# delete anything we didn't use\n",
    "for ax in axes_list:\n",
    "    ax.remove()\n",
    "\n",
    "plt.tight_layout()"
   ]
  },
  {
   "cell_type": "markdown",
   "metadata": {},
   "source": [
    "### Making Place Cells"
   ]
  },
  {
   "cell_type": "code",
   "execution_count": null,
   "metadata": {},
   "outputs": [],
   "source": [
    "place_weights = np.full([6,12],np.nan)\n",
    "place_weights[3] = 0\n",
    "place_weights[4] = 11\n",
    "place_weights[5] = 3\n",
    "\n",
    "plot_weights(place_weights)"
   ]
  },
  {
   "cell_type": "code",
   "execution_count": null,
   "metadata": {},
   "outputs": [],
   "source": [
    "testnorm, testsum = hcn_activity(VCOmat,place_weights,10)\n",
    "\n",
    "plt.imshow(testnorm,cmap='jet')"
   ]
  },
  {
   "cell_type": "code",
   "execution_count": null,
   "metadata": {
    "collapsed": true
   },
   "outputs": [],
   "source": [
    "n_mats = 25\n",
    "rd_pweights = np.full([6,12,n_mats], np.nan)\n",
    "\n",
    "for mat in range(n_mats):\n",
    "    num_rows = np.random.randint(4) + 1\n",
    "    for i, w_x in enumerate(np.random.randint(6,size=num_rows)):\n",
    "        num_change = np.random.randint(8)\n",
    "        random_cells = np.random.randint(12, size=num_change)\n",
    "        random_cols = np.random.randint(12, size=num_change)\n",
    "        rd_pweights[w_x,:,mat] = np.random.randint(12)\n",
    "        \n",
    "        for i, col in enumerate(random_cols):\n",
    "            rd_pweights[w_x, col, mat] = random_cells[i]\n"
   ]
  },
  {
   "cell_type": "code",
   "execution_count": null,
   "metadata": {
    "collapsed": true
   },
   "outputs": [],
   "source": [
    "size = 10\n",
    "rd_pnorms = np.zeros((10*size,10*size,n_mats))"
   ]
  },
  {
   "cell_type": "code",
   "execution_count": null,
   "metadata": {
    "collapsed": true
   },
   "outputs": [],
   "source": [
    "for i in range(n_mats):\n",
    "    pnorm, sumz = hcn_activity(VCOmat, rd_pweights[:,:,i], size)\n",
    "    rd_pnorms[:,:,i] = pnorm"
   ]
  },
  {
   "cell_type": "code",
   "execution_count": null,
   "metadata": {
    "scrolled": false
   },
   "outputs": [],
   "source": [
    "fig, axes = plt.subplots(nrows=5, ncols=5, sharex=True, sharey=True, figsize=(10,10))\n",
    "axes_list = [item for sublist in axes for item in sublist] \n",
    "\n",
    "for idx in range(25):\n",
    "    ax = axes_list.pop(0)\n",
    "    ax.imshow(rd_pnorms[:,:,idx],cmap='jet',extent=(-size,size,-size,size))\n",
    "    ax.set_title(idx)\n",
    "    ax.tick_params(\n",
    "        which='both',\n",
    "        bottom='off',\n",
    "        left='off',\n",
    "        right='off',\n",
    "        top='off'\n",
    "    )\n",
    "    ax.spines['left'].set_visible(False)\n",
    "    ax.spines['top'].set_visible(False)\n",
    "    ax.spines['right'].set_visible(False)\n",
    "    ax.spines['bottom'].set_visible(False)\n",
    "\n",
    "# Now use the matplotlib .remove() method to \n",
    "# delete anything we didn't use\n",
    "for ax in axes_list:\n",
    "    ax.remove()\n",
    "\n",
    "plt.tight_layout()"
   ]
  },
  {
   "cell_type": "code",
   "execution_count": null,
   "metadata": {
    "scrolled": false
   },
   "outputs": [],
   "source": [
    "plot_weights(rd_pweights[:,:,0])\n",
    "plot_weights(rd_pweights[:,:,7])\n",
    "plot_weights(rd_pweights[:,:,8])\n",
    "plot_weights(rd_pweights[:,:,12])\n",
    "plot_weights(rd_pweights[:,:,13])\n",
    "plot_weights(rd_pweights[:,:,14])\n",
    "plot_weights(rd_pweights[:,:,15])\n",
    "plot_weights(rd_pweights[:,:,16])\n",
    "plot_weights(rd_pweights[:,:,23])"
   ]
  },
  {
   "cell_type": "code",
   "execution_count": null,
   "metadata": {},
   "outputs": [],
   "source": [
    "np.random.randint(1000,size=5)"
   ]
  },
  {
   "cell_type": "code",
   "execution_count": null,
   "metadata": {},
   "outputs": [],
   "source": [
    "fig, axes = plt.subplots(nrows=9, ncols=9, sharex=True, sharey=True, figsize=(10,10))\n",
    "axes_list = [item for sublist in axes for item in sublist] \n",
    "\n",
    "for idx in range(81):\n",
    "    ax = axes_list.pop(0)\n",
    "    rand_grids = np.random.randint(1000,size=30)\n",
    "    place=np.zeros_like(rd_gnorms[:,:,0])\n",
    "    for j, grid_idx in enumerate(rand_grids):\n",
    "        place = place + rd_gnorms[:,:,grid_idx]\n",
    "    ax.imshow(place,cmap='jet',extent=(-size,size,-size,size))\n",
    "    #ax.set_title(idx)\n",
    "    ax.tick_params(\n",
    "        which='both',\n",
    "        bottom='off',\n",
    "        left='off',\n",
    "        right='off',\n",
    "        top='off'\n",
    "    )\n",
    "    ax.spines['left'].set_visible(False)\n",
    "    ax.spines['top'].set_visible(False)\n",
    "    ax.spines['right'].set_visible(False)\n",
    "    ax.spines['bottom'].set_visible(False)\n",
    "\n",
    "# Now use the matplotlib .remove() method to \n",
    "# delete anything we didn't use\n",
    "for ax in axes_list:\n",
    "    ax.remove()\n",
    "\n",
    "plt.tight_layout()"
   ]
  },
  {
   "cell_type": "markdown",
   "metadata": {},
   "source": [
    "### Creating Grid Cells with Multiplication, not Addition"
   ]
  },
  {
   "cell_type": "code",
   "execution_count": null,
   "metadata": {
    "collapsed": true
   },
   "outputs": [],
   "source": [
    "ringsize = 12\n",
    "minrho = 0.14\n",
    "rotation_angle = 0\n",
    "rhos = minrho * (np.sqrt(3)**(np.arange(6)))\n",
    "thetas = np.pi + rotation_angle + 2*np.pi*(np.arange(ringsize))/ringsize \n",
    "jitter = 0\n",
    "\n",
    "VCOmult = [[],[],[],[],[],[]]\n",
    "for row in range(6):\n",
    "    for col in range(ringsize):\n",
    "        VCOmult[row].append(RingOscillator(ringsize, rhos[row], thetas[col], jitter))"
   ]
  },
  {
   "cell_type": "code",
   "execution_count": null,
   "metadata": {
    "collapsed": true
   },
   "outputs": [],
   "source": [
    "weights = np.full([6,12],np.nan)\n",
    "weights[3,0] = 5\n",
    "weights[3,4] = 5\n",
    "weights[3,8] = 5"
   ]
  },
  {
   "cell_type": "code",
   "execution_count": null,
   "metadata": {},
   "outputs": [],
   "source": [
    "plot_weights(weights)"
   ]
  },
  {
   "cell_type": "code",
   "execution_count": null,
   "metadata": {
    "collapsed": true
   },
   "outputs": [],
   "source": [
    "normt, prodt = theta_to_grid(VCOmult, weights, 20)"
   ]
  },
  {
   "cell_type": "code",
   "execution_count": null,
   "metadata": {},
   "outputs": [],
   "source": [
    "plt.imshow(normt,cmap='jet')"
   ]
  },
  {
   "cell_type": "code",
   "execution_count": null,
   "metadata": {
    "collapsed": true
   },
   "outputs": [],
   "source": [
    "test =  VCOmult[5][0].cell_activity_3(1,xx, yy)\n",
    "test2 = VCOmult[5][4].cell_activity_3(1,xx, yy)\n",
    "test3 = VCOmult[5][8].cell_activity_3(1,xx, yy)\n",
    "#test4 = VCOmult[5][2].cell_activity_3(1,xx, yy)\n",
    "#test5 = VCOmult[5][6].cell_activity_3(1,xx, yy)\n",
    "#test6 = VCOmult[5][10].cell_activity_3(1,xx, yy)\n",
    "test4 = np.ones_like(test)\n",
    "test5 = np.ones_like(test)\n",
    "test6 = np.ones_like(test)"
   ]
  },
  {
   "cell_type": "code",
   "execution_count": null,
   "metadata": {},
   "outputs": [],
   "source": [
    "plt.figure(figsize=(10,5))\n",
    "plt.subplot(141)\n",
    "plt.imshow(np.real(test),cmap='jet')\n",
    "#plt.colorbar()\n",
    "plt.subplot(142)\n",
    "plt.imshow(np.real(test2),cmap='jet')\n",
    "#plt.colorbar()\n",
    "plt.subplot(143)\n",
    "plt.imshow(np.real(test3),cmap='jet')\n",
    "#plt.colorbar()\n",
    "plt.subplot(144)\n",
    "plt.imshow(np.abs(test*test2*test3*test4*test5*test6),cmap='jet')\n",
    "#plt.colorbar()\n",
    "plt.tight_layout()"
   ]
  },
  {
   "cell_type": "markdown",
   "metadata": {},
   "source": [
    "For some reason, cells 3, 7, and 11 in the rings have really odd products."
   ]
  }
 ],
 "metadata": {
  "kernelspec": {
   "display_name": "Python 3",
   "language": "python",
   "name": "python3"
  },
  "language_info": {
   "codemirror_mode": {
    "name": "ipython",
    "version": 3
   },
   "file_extension": ".py",
   "mimetype": "text/x-python",
   "name": "python",
   "nbconvert_exporter": "python",
   "pygments_lexer": "ipython3",
   "version": "3.6.0"
  }
 },
 "nbformat": 4,
 "nbformat_minor": 2
}
