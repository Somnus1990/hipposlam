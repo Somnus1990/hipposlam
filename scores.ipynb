{
 "cells": [
  {
   "cell_type": "markdown",
   "metadata": {},
   "source": [
    "# Researching, Developing, and Testing \"-Ness\" Scores\n",
    "The primary goal for this is to create some kind of score to determine the \"success\" of a putative grid/place cell, such that we can create error functions to be used in some kind of ML task."
   ]
  },
  {
   "cell_type": "code",
   "execution_count": 1,
   "metadata": {
    "collapsed": true
   },
   "outputs": [],
   "source": [
    "import vco\n",
    "import numpy as np\n",
    "#import numpy.ma as ma\n",
    "import numpy.random as nprd\n",
    "import matplotlib.pyplot as plt\n",
    "\n",
    "from scipy.signal                import correlate2d\n",
    "from scipy.ndimage.interpolation import rotate\n",
    "\n",
    "%matplotlib inline"
   ]
  },
  {
   "cell_type": "code",
   "execution_count": 2,
   "metadata": {
    "collapsed": true
   },
   "outputs": [],
   "source": [
    "from skimage import io, filters\n",
    "from skimage.feature import blob_dog, blob_log, blob_doh"
   ]
  },
  {
   "cell_type": "markdown",
   "metadata": {},
   "source": [
    "## Gridness Score\n",
    "First, we develop the gridness score based on pre-existing methods. This score definitionally prioritizes the $60^{\\circ}$, hexagonal grid system. This gridness score is based on [Sargolini _et al._, 2006](http://science.sciencemag.org/content/312/5774/758) (see supplementary materials). The autocorrelogram of the spatial firing rate map is cross-correlated with itself rotated by some regular $\\theta$. The gridness score is the difference between the minimum Pearson coefficient at $60^{\\circ}$ or $120^{\\circ}$ (where the value should peak for a grid cell) and the maximum at $30^{\\circ}$, $90^{\\circ}$, or $150^{\\circ}$ (where the value should be minimal). Cells with a gridness score $G>0$ may be considered grid cells. \n",
    "\n",
    "Sargolini _et al._ further specify their scoring paradigm by removing the central peak of the autocorrelogram from the cross-correlation and only considering a circle drawn around the remaining central six peaks"
   ]
  },
  {
   "cell_type": "code",
   "execution_count": 3,
   "metadata": {
    "collapsed": true
   },
   "outputs": [],
   "source": [
    "def center_remove(autocorr):\n",
    "    only_one = False\n",
    "    thresh = 1\n",
    "\n",
    "    while not only_one:\n",
    "        blobs_log = blob_log(autocorr, max_sigma=100, num_sigma=30, threshold=thresh)\n",
    "\n",
    "        if (blobs_log.shape[0] == 1):\n",
    "            only_one = True\n",
    "        elif (blobs_log.shape[0] < 1):\n",
    "            thresh = thresh / 1.5\n",
    "        else:\n",
    "            thresh = thresh * 2\n",
    "\n",
    "    # Compute radii in the 3rd column.\n",
    "    blobs_log[:, 2] = blobs_log[:, 2] * np.sqrt(2)\n",
    "\n",
    "    xshape, yshape = autocorr.shape\n",
    "    xc, yc, r = blobs_log[0,:]\n",
    "    x, y = np.meshgrid(np.arange(xshape), np.arange(yshape))\n",
    "    d2 = (x - xc)**2 + (y - yc)**2\n",
    "    mask = d2 < r**2\n",
    "    autocorr_copy = np.copy(autocorr)\n",
    "    autocorr_copy[mask] = 0\n",
    "    return autocorr_copy"
   ]
  },
  {
   "cell_type": "code",
   "execution_count": 4,
   "metadata": {
    "collapsed": true
   },
   "outputs": [],
   "source": [
    "def gridness_score(rate_map, theta=6, mask=False, verbose=False):\n",
    "    autocorr = correlate2d(rate_map,rate_map,mode='full')\n",
    "    \n",
    "    # Removing center of autocorrelation\n",
    "    if mask:\n",
    "        autocorr = center_remove(autocorr)\n",
    "\n",
    "    if theta == 0:\n",
    "        angles = np.array([30, 60, 90, 120, 150])\n",
    "        trough_idx = np.array([0,2,4])\n",
    "        peak_idx = np.array([1,3])\n",
    "    else:\n",
    "        angles = np.arange(0, 180 + theta, theta)\n",
    "        trough_idx = np.array([30/theta, 90/theta, 150/theta], dtype=int)\n",
    "        peak_idx  = np.array([60/theta, 120/theta], dtype=int)\n",
    "        \n",
    "    crosscorr = np.zeros(angles.shape)\n",
    "    for i, angle in enumerate(angles):\n",
    "        rot_autocorr = rotate(autocorr, angle, reshape=False)\n",
    "        R = np.corrcoef(np.reshape(autocorr, (1, autocorr.size)),\n",
    "            np.reshape(rot_autocorr, (1, rot_autocorr.size)))\n",
    "        crosscorr[i] = R[0,1]\n",
    "\n",
    "    max_trough = np.max(crosscorr[trough_idx])\n",
    "    min_peak = np.min(crosscorr[peak_idx])\n",
    "    gridness = min_peak - max_trough\n",
    "    \n",
    "    if verbose:\n",
    "        plt.figure()\n",
    "        plt.subplot(131); plt.gca().set_title('Rate Map'); plt.imshow(rate_map); \n",
    "        plt.subplot(132); plt.gca().set_title('Autocorrelogram'); plt.imshow(autocorr);\n",
    "        plt.subplot(133); plt.gca().set_title('Spatial Periodicity'); plt.plot(angles, crosscorr);\n",
    "        plt.tight_layout()\n",
    "        print('Gridness score = {}'.format(gridness))\n",
    "    \n",
    "    return gridness, crosscorr, angles"
   ]
  },
  {
   "cell_type": "markdown",
   "metadata": {},
   "source": [
    "### Demonstrating Gridness Method"
   ]
  },
  {
   "cell_type": "code",
   "execution_count": 5,
   "metadata": {
    "collapsed": true
   },
   "outputs": [],
   "source": [
    "# Initializing VCO matrix\n",
    "numrow, numcol = 6, 12\n",
    "ringsize = 12\n",
    "minrho = 0.14\n",
    "rotation_angle = 0\n",
    "rhos = minrho * (np.sqrt(3)**(np.arange(numrow)))\n",
    "thetas = np.pi + rotation_angle + 2*np.pi*(np.arange(numcol))/numcol\n",
    "phz_noise = 0\n",
    "\n",
    "VCOmat = [[vco.VCO_model(ringsize, rhos[i], thetas[j], phz_noise) \\\n",
    "           for j in range(numcol)] for i in range(numrow)]"
   ]
  },
  {
   "cell_type": "markdown",
   "metadata": {},
   "source": [
    "Create `n_mats` grid cells; the variable `hexGrid` determines whether the cells are created on a hexagonal grid or randomly connected with various $\\theta$ values. (By now, we've determeined that specifying hexagonal grids makes more sense than pruning down to near-hexagonal from a random collection of pseudo-grid cells.)"
   ]
  },
  {
   "cell_type": "code",
   "execution_count": 15,
   "metadata": {
    "collapsed": false
   },
   "outputs": [],
   "source": [
    "# Creating randomized grid cells\n",
    "n_mats = 100\n",
    "hexGrid = False\n",
    "\n",
    "n_inputs = 3\n",
    "arena = 5\n",
    "w_grid = np.full([numrow,numcol,n_mats], np.nan)\n",
    "\n",
    "for mat in range(n_mats):\n",
    "    rand_row = nprd.randint(numrow)\n",
    "    if hexGrid:\n",
    "        rand_col = nprd.randint(4)\n",
    "        cols = np.array([rand_col, rand_col+4, rand_col+8])\n",
    "    else:\n",
    "        cols = np.arange(numcol)\n",
    "        nprd.shuffle(cols)\n",
    "\n",
    "    for col in cols[:n_inputs]:\n",
    "        w_grid[rand_row, col, mat] = nprd.randint(ringsize)\n",
    "\n",
    "grids = np.zeros([10*arena, 10*arena, n_mats, 2])\n",
    "for i in range(n_mats):\n",
    "    grids[:,:,i,0], grids[:,:,i,1] = vco.theta_to_hcn(VCOmat, w_grid[:,:,i], arena)"
   ]
  },
  {
   "cell_type": "code",
   "execution_count": 17,
   "metadata": {
    "collapsed": true
   },
   "outputs": [],
   "source": [
    "gridnesses = np.zeros([n_mats,1])\n",
    "crosscorrs = np.zeros([n_mats,5])\n",
    "\n",
    "for i in range(n_mats):\n",
    "    gridnesses[i], crosscorrs[i,:], _ = gridness_score(grids[:,:,i,0], theta=0, mask=True)\n",
    "    if gridnesses[i] is np.nan:\n",
    "        gridness[i] = 0"
   ]
  },
  {
   "cell_type": "code",
   "execution_count": null,
   "metadata": {
    "collapsed": false
   },
   "outputs": [],
   "source": [
    "ex_idx = 78; ex2_idx = 60;\n",
    "example = grids[:,:,ex_idx,0]\n",
    "example2 = grids[:,:,ex2_idx,0]\n",
    "print(gridnesses[ex_idx])\n",
    "\n",
    "fig = plt.figure(figsize=(16,4))\n",
    "ax1 = plt.subplot(141)\n",
    "ax1.hist(gridnesses)\n",
    "ax1.set_xlabel('Gridness Score'); ax1.set_ylabel('Number of cells')\n",
    "ax1.set_title('Histogram of gridness scores')\n",
    "ax2 = plt.subplot(142)\n",
    "ax2.set_title('Gridness for each cell')\n",
    "ax2.set_xlabel('Grid cell'); ax2.set_ylabel('Gridness score')\n",
    "ax2.grid()\n",
    "ax2.scatter(np.arange(n_mats),gridnesses)\n",
    "ax3 = plt.subplot(143)\n",
    "ax3.imshow(example,cmap='jet')\n",
    "ax3.set_title('Example firing rate map (cell 78)')\n",
    "ax4 = plt.subplot(144)\n",
    "ax4.imshow(example2,cmap='jet')\n",
    "ax4.set_title('Example firing rate map (cell 60)')\n",
    "plt.tight_layout()"
   ]
  },
  {
   "cell_type": "code",
   "execution_count": null,
   "metadata": {
    "collapsed": false
   },
   "outputs": [],
   "source": [
    "%%timeit\n",
    "ex_G, ex_crosscorrs, _ = gridness_score(example, theta=0, mask=True)\n",
    "# Removing center of autocorrelation"
   ]
  },
  {
   "cell_type": "code",
   "execution_count": null,
   "metadata": {
    "collapsed": false
   },
   "outputs": [],
   "source": [
    "plt.figure(figsize=(9,3))\n",
    "plt.subplot(131); plt.imshow(example, cmap='jet')\n",
    "plt.subplot(132); plt.imshow(autocorr, cmap='jet')\n",
    "plt.subplot(133); plt.imshow(masked, cmap='jet')\n",
    "plt.tight_layout()"
   ]
  },
  {
   "cell_type": "markdown",
   "metadata": {},
   "source": [
    "This is extremely computationally expensive; the single autocorrelation/center removal above requires significant time (11.7 s at last timing). Multiply this by a minimum of five $\\left(\\theta = \\left[30,60,90,120,150\\right] \\right)$ for each cell, and the computational time for scoring is far beyond what might be useful for an error function in backprop, for example."
   ]
  },
  {
   "cell_type": "markdown",
   "metadata": {},
   "source": [
    "## Placeness Score\n",
    "There is not a well-defined \"placeness\" score in the neuroscientific literature. So we will define such a score through experimentation. First, we will experiment with the autocorrelation of a place cell and a non-place cell."
   ]
  },
  {
   "cell_type": "code",
   "execution_count": null,
   "metadata": {
    "collapsed": true
   },
   "outputs": [],
   "source": [
    "# Create a place cell weight matrix\n",
    "place_weights = np.full([6,12],np.nan)\n",
    "place_weights[2,:] = [11,11,0,0,0,0,0,0,11,10,10,10]\n",
    "place_weights[3,:] = [10,11,0,0,0,0,0,0,10,10,10,10]\n",
    "place_weights[4,:] = [10,11,0,1,2,1,0,0,10, 9, 8, 9]"
   ]
  },
  {
   "cell_type": "code",
   "execution_count": 8,
   "metadata": {
    "collapsed": true
   },
   "outputs": [
    {
     "ename": "NameError",
     "evalue": "name 'place_weights' is not defined",
     "output_type": "error",
     "traceback": [
      "\u001b[0;31m---------------------------------------------------------------------------\u001b[0m",
      "\u001b[0;31mNameError\u001b[0m                                 Traceback (most recent call last)",
      "\u001b[0;32m<ipython-input-8-1c0cd2dd586a>\u001b[0m in \u001b[0;36m<module>\u001b[0;34m()\u001b[0m\n\u001b[1;32m      2\u001b[0m \u001b[0marena\u001b[0m \u001b[0;34m=\u001b[0m \u001b[0;36m5\u001b[0m\u001b[0;34m\u001b[0m\u001b[0m\n\u001b[1;32m      3\u001b[0m \u001b[0mpplace\u001b[0m \u001b[0;34m=\u001b[0m \u001b[0mnp\u001b[0m\u001b[0;34m.\u001b[0m\u001b[0mzeros\u001b[0m\u001b[0;34m(\u001b[0m\u001b[0;34m[\u001b[0m\u001b[0marena\u001b[0m\u001b[0;34m*\u001b[0m\u001b[0;36m10\u001b[0m\u001b[0;34m,\u001b[0m \u001b[0marena\u001b[0m\u001b[0;34m*\u001b[0m\u001b[0;36m10\u001b[0m\u001b[0;34m,\u001b[0m \u001b[0;36m2\u001b[0m\u001b[0;34m]\u001b[0m\u001b[0;34m)\u001b[0m\u001b[0;34m\u001b[0m\u001b[0m\n\u001b[0;32m----> 4\u001b[0;31m \u001b[0mpplace\u001b[0m\u001b[0;34m[\u001b[0m\u001b[0;34m:\u001b[0m\u001b[0;34m,\u001b[0m\u001b[0;34m:\u001b[0m\u001b[0;34m,\u001b[0m\u001b[0;36m0\u001b[0m\u001b[0;34m]\u001b[0m\u001b[0;34m,\u001b[0m \u001b[0mpplace\u001b[0m\u001b[0;34m[\u001b[0m\u001b[0;34m:\u001b[0m\u001b[0;34m,\u001b[0m\u001b[0;34m:\u001b[0m\u001b[0;34m,\u001b[0m\u001b[0;36m1\u001b[0m\u001b[0;34m]\u001b[0m \u001b[0;34m=\u001b[0m \u001b[0mvco\u001b[0m\u001b[0;34m.\u001b[0m\u001b[0mtheta_to_hcn\u001b[0m\u001b[0;34m(\u001b[0m\u001b[0mVCOmat\u001b[0m\u001b[0;34m,\u001b[0m \u001b[0mplace_weights\u001b[0m\u001b[0;34m,\u001b[0m \u001b[0marena\u001b[0m\u001b[0;34m)\u001b[0m\u001b[0;34m\u001b[0m\u001b[0m\n\u001b[0m\u001b[1;32m      5\u001b[0m \u001b[0mautocorr_pp\u001b[0m \u001b[0;34m=\u001b[0m \u001b[0mcorrelate2d\u001b[0m\u001b[0;34m(\u001b[0m\u001b[0mpplace\u001b[0m\u001b[0;34m[\u001b[0m\u001b[0;34m:\u001b[0m\u001b[0;34m,\u001b[0m\u001b[0;34m:\u001b[0m\u001b[0;34m,\u001b[0m\u001b[0;36m0\u001b[0m\u001b[0;34m]\u001b[0m\u001b[0;34m,\u001b[0m\u001b[0mpplace\u001b[0m\u001b[0;34m[\u001b[0m\u001b[0;34m:\u001b[0m\u001b[0;34m,\u001b[0m\u001b[0;34m:\u001b[0m\u001b[0;34m,\u001b[0m\u001b[0;36m0\u001b[0m\u001b[0;34m]\u001b[0m\u001b[0;34m)\u001b[0m\u001b[0;34m\u001b[0m\u001b[0m\n",
      "\u001b[0;31mNameError\u001b[0m: name 'place_weights' is not defined"
     ]
    }
   ],
   "source": [
    "# Create PC, calculate autocorrelation\n",
    "arena = 5\n",
    "pplace = np.zeros([arena*10, arena*10, 2])\n",
    "pplace[:,:,0], pplace[:,:,1] = vco.theta_to_hcn(VCOmat, place_weights, arena)\n",
    "autocorr_pp = correlate2d(pplace[:,:,0],pplace[:,:,0])"
   ]
  },
  {
   "cell_type": "code",
   "execution_count": 9,
   "metadata": {
    "collapsed": true
   },
   "outputs": [],
   "source": [
    "# Now create a \"bad\" PC, where there are multiple activation lobes - and autocorrelate\n",
    "bplace_weights = np.full([6,12],np.nan)\n",
    "bplace_weights[2,:] = [8,0,1,1,7,4,2,7,8,8,4,2]\n",
    "bplace_weights[3,:] = [3,0,3,0,5,0,1,4,5,9,9,11]\n",
    "bplace_weights[4,:] = [0,2,2,10,7,0,0,5,6,2,6,4]\n",
    "\n",
    "bplace = np.zeros([arena*10, arena*10, 2])\n",
    "bplace[:,:,0], bplace[:,:,1] = vco.theta_to_hcn(VCOmat,bplace_weights,arena)\n",
    "autocorr_bp = correlate2d(bplace[:,:,0],bplace[:,:,0])"
   ]
  },
  {
   "cell_type": "code",
   "execution_count": 10,
   "metadata": {
    "collapsed": false,
    "scrolled": false
   },
   "outputs": [
    {
     "ename": "NameError",
     "evalue": "name 'autocorr_pp' is not defined",
     "output_type": "error",
     "traceback": [
      "\u001b[0;31m---------------------------------------------------------------------------\u001b[0m",
      "\u001b[0;31mNameError\u001b[0m                                 Traceback (most recent call last)",
      "\u001b[0;32m<ipython-input-10-05961531d15c>\u001b[0m in \u001b[0;36m<module>\u001b[0;34m()\u001b[0m\n\u001b[1;32m      2\u001b[0m \u001b[0mplt\u001b[0m\u001b[0;34m.\u001b[0m\u001b[0mfigure\u001b[0m\u001b[0;34m(\u001b[0m\u001b[0mfigsize\u001b[0m\u001b[0;34m=\u001b[0m\u001b[0;34m(\u001b[0m\u001b[0;36m8\u001b[0m\u001b[0;34m,\u001b[0m\u001b[0;36m8\u001b[0m\u001b[0;34m)\u001b[0m\u001b[0;34m)\u001b[0m\u001b[0;34m\u001b[0m\u001b[0m\n\u001b[1;32m      3\u001b[0m \u001b[0mplt\u001b[0m\u001b[0;34m.\u001b[0m\u001b[0msubplot\u001b[0m\u001b[0;34m(\u001b[0m\u001b[0;36m221\u001b[0m\u001b[0;34m)\u001b[0m\u001b[0;34m;\u001b[0m \u001b[0mplt\u001b[0m\u001b[0;34m.\u001b[0m\u001b[0mimshow\u001b[0m\u001b[0;34m(\u001b[0m\u001b[0mpplace\u001b[0m\u001b[0;34m[\u001b[0m\u001b[0;34m:\u001b[0m\u001b[0;34m,\u001b[0m\u001b[0;34m:\u001b[0m\u001b[0;34m,\u001b[0m\u001b[0;36m0\u001b[0m\u001b[0;34m]\u001b[0m\u001b[0;34m,\u001b[0m\u001b[0mcmap\u001b[0m\u001b[0;34m=\u001b[0m\u001b[0;34m'jet'\u001b[0m\u001b[0;34m)\u001b[0m\u001b[0;34m;\u001b[0m \u001b[0mplt\u001b[0m\u001b[0;34m.\u001b[0m\u001b[0mtitle\u001b[0m\u001b[0;34m(\u001b[0m\u001b[0;34m'\"Good\" Place Cell'\u001b[0m\u001b[0;34m)\u001b[0m\u001b[0;34m\u001b[0m\u001b[0m\n\u001b[0;32m----> 4\u001b[0;31m \u001b[0mplt\u001b[0m\u001b[0;34m.\u001b[0m\u001b[0msubplot\u001b[0m\u001b[0;34m(\u001b[0m\u001b[0;36m222\u001b[0m\u001b[0;34m)\u001b[0m\u001b[0;34m;\u001b[0m \u001b[0mplt\u001b[0m\u001b[0;34m.\u001b[0m\u001b[0mimshow\u001b[0m\u001b[0;34m(\u001b[0m\u001b[0mautocorr_pp\u001b[0m\u001b[0;34m,\u001b[0m\u001b[0mcmap\u001b[0m\u001b[0;34m=\u001b[0m\u001b[0;34m'jet'\u001b[0m\u001b[0;34m)\u001b[0m\u001b[0;34m;\u001b[0m \u001b[0mplt\u001b[0m\u001b[0;34m.\u001b[0m\u001b[0mtitle\u001b[0m\u001b[0;34m(\u001b[0m\u001b[0;34m'\"Good\" Autocorrellogram'\u001b[0m\u001b[0;34m)\u001b[0m\u001b[0;34m\u001b[0m\u001b[0m\n\u001b[0m\u001b[1;32m      5\u001b[0m \u001b[0mplt\u001b[0m\u001b[0;34m.\u001b[0m\u001b[0msubplot\u001b[0m\u001b[0;34m(\u001b[0m\u001b[0;36m223\u001b[0m\u001b[0;34m)\u001b[0m\u001b[0;34m;\u001b[0m \u001b[0mplt\u001b[0m\u001b[0;34m.\u001b[0m\u001b[0mimshow\u001b[0m\u001b[0;34m(\u001b[0m\u001b[0mbplace\u001b[0m\u001b[0;34m[\u001b[0m\u001b[0;34m:\u001b[0m\u001b[0;34m,\u001b[0m\u001b[0;34m:\u001b[0m\u001b[0;34m,\u001b[0m\u001b[0;36m0\u001b[0m\u001b[0;34m]\u001b[0m\u001b[0;34m,\u001b[0m \u001b[0mcmap\u001b[0m\u001b[0;34m=\u001b[0m\u001b[0;34m'jet'\u001b[0m\u001b[0;34m)\u001b[0m\u001b[0;34m;\u001b[0m \u001b[0mplt\u001b[0m\u001b[0;34m.\u001b[0m\u001b[0mtitle\u001b[0m\u001b[0;34m(\u001b[0m\u001b[0;34m'\"Bad\" Place Cell'\u001b[0m\u001b[0;34m)\u001b[0m\u001b[0;34m\u001b[0m\u001b[0m\n\u001b[1;32m      6\u001b[0m \u001b[0mplt\u001b[0m\u001b[0;34m.\u001b[0m\u001b[0msubplot\u001b[0m\u001b[0;34m(\u001b[0m\u001b[0;36m224\u001b[0m\u001b[0;34m)\u001b[0m\u001b[0;34m;\u001b[0m \u001b[0mplt\u001b[0m\u001b[0;34m.\u001b[0m\u001b[0mimshow\u001b[0m\u001b[0;34m(\u001b[0m\u001b[0mautocorr_bp\u001b[0m\u001b[0;34m,\u001b[0m \u001b[0mcmap\u001b[0m\u001b[0;34m=\u001b[0m\u001b[0;34m'jet'\u001b[0m\u001b[0;34m)\u001b[0m\u001b[0;34m;\u001b[0m \u001b[0mplt\u001b[0m\u001b[0;34m.\u001b[0m\u001b[0mtitle\u001b[0m\u001b[0;34m(\u001b[0m\u001b[0;34m'\"Bad\" Autocorrellogram'\u001b[0m\u001b[0;34m)\u001b[0m\u001b[0;34m\u001b[0m\u001b[0m\n",
      "\u001b[0;31mNameError\u001b[0m: name 'autocorr_pp' is not defined"
     ]
    },
    {
     "data": {
      "image/png": "[encoded data removed]",
      "text/plain": [
       "<matplotlib.figure.Figure at 0x7f1382d69f98>"
      ]
     },
     "metadata": {},
     "output_type": "display_data"
    }
   ],
   "source": [
    "# Plot \"good\" and \"bad\" place cells with their autocorrelations\n",
    "plt.figure(figsize=(8,8))\n",
    "plt.subplot(221); plt.imshow(pplace[:,:,0],cmap='jet'); plt.title('\"Good\" Place Cell')\n",
    "plt.subplot(222); plt.imshow(autocorr_pp,cmap='jet'); plt.title('\"Good\" Autocorrellogram')\n",
    "plt.subplot(223); plt.imshow(bplace[:,:,0], cmap='jet'); plt.title('\"Bad\" Place Cell')\n",
    "plt.subplot(224); plt.imshow(autocorr_bp, cmap='jet'); plt.title('\"Bad\" Autocorrellogram')\n",
    "plt.tight_layout()"
   ]
  },
  {
   "cell_type": "code",
   "execution_count": 11,
   "metadata": {
    "collapsed": false
   },
   "outputs": [
    {
     "ename": "NameError",
     "evalue": "name 'autocorr_pp' is not defined",
     "output_type": "error",
     "traceback": [
      "\u001b[0;31m---------------------------------------------------------------------------\u001b[0m",
      "\u001b[0;31mNameError\u001b[0m                                 Traceback (most recent call last)",
      "\u001b[0;32m<ipython-input-11-d52fcc82029b>\u001b[0m in \u001b[0;36m<module>\u001b[0;34m()\u001b[0m\n\u001b[0;32m----> 1\u001b[0;31m \u001b[0mprint\u001b[0m\u001b[0;34m(\u001b[0m\u001b[0;34m'Mean of PC autocorrelation: {}'\u001b[0m\u001b[0;34m.\u001b[0m\u001b[0mformat\u001b[0m\u001b[0;34m(\u001b[0m\u001b[0mnp\u001b[0m\u001b[0;34m.\u001b[0m\u001b[0mmean\u001b[0m\u001b[0;34m(\u001b[0m\u001b[0mautocorr_pp\u001b[0m\u001b[0;34m)\u001b[0m\u001b[0;34m)\u001b[0m\u001b[0;34m)\u001b[0m\u001b[0;34m\u001b[0m\u001b[0m\n\u001b[0m\u001b[1;32m      2\u001b[0m \u001b[0mprint\u001b[0m\u001b[0;34m(\u001b[0m\u001b[0;34m'Mean of \"bad\" PC autocorrelation: {}'\u001b[0m\u001b[0;34m.\u001b[0m\u001b[0mformat\u001b[0m\u001b[0;34m(\u001b[0m\u001b[0mnp\u001b[0m\u001b[0;34m.\u001b[0m\u001b[0mmean\u001b[0m\u001b[0;34m(\u001b[0m\u001b[0mautocorr_bp\u001b[0m\u001b[0;34m)\u001b[0m\u001b[0;34m)\u001b[0m\u001b[0;34m)\u001b[0m\u001b[0;34m\u001b[0m\u001b[0m\n",
      "\u001b[0;31mNameError\u001b[0m: name 'autocorr_pp' is not defined"
     ]
    }
   ],
   "source": [
    "print('Mean of PC autocorrelation: {}'.format(np.mean(autocorr_pp)))\n",
    "print('Mean of \"bad\" PC autocorrelation: {}'.format(np.mean(autocorr_bp)))"
   ]
  },
  {
   "cell_type": "code",
   "execution_count": 12,
   "metadata": {
    "collapsed": true
   },
   "outputs": [
    {
     "ename": "NameError",
     "evalue": "name 'autocorr_pp' is not defined",
     "output_type": "error",
     "traceback": [
      "\u001b[0;31m---------------------------------------------------------------------------\u001b[0m",
      "\u001b[0;31mNameError\u001b[0m                                 Traceback (most recent call last)",
      "\u001b[0;32m<ipython-input-12-80de89ae076a>\u001b[0m in \u001b[0;36m<module>\u001b[0;34m()\u001b[0m\n\u001b[1;32m      1\u001b[0m \u001b[0;31m# Remove center of each autocorrellogram\u001b[0m\u001b[0;34m\u001b[0m\u001b[0;34m\u001b[0m\u001b[0m\n\u001b[0;32m----> 2\u001b[0;31m \u001b[0mautocorr_pp_masked\u001b[0m \u001b[0;34m=\u001b[0m \u001b[0mcenter_remove\u001b[0m\u001b[0;34m(\u001b[0m\u001b[0mautocorr_pp\u001b[0m\u001b[0;34m)\u001b[0m\u001b[0;34m\u001b[0m\u001b[0m\n\u001b[0m\u001b[1;32m      3\u001b[0m \u001b[0mautocorr_bp_masked\u001b[0m \u001b[0;34m=\u001b[0m \u001b[0mcenter_remove\u001b[0m\u001b[0;34m(\u001b[0m\u001b[0mautocorr_bp\u001b[0m\u001b[0;34m)\u001b[0m\u001b[0;34m\u001b[0m\u001b[0m\n",
      "\u001b[0;31mNameError\u001b[0m: name 'autocorr_pp' is not defined"
     ]
    }
   ],
   "source": [
    "# Remove center of each autocorrellogram\n",
    "autocorr_pp_masked = center_remove(autocorr_pp)\n",
    "autocorr_bp_masked = center_remove(autocorr_bp)"
   ]
  },
  {
   "cell_type": "code",
   "execution_count": 13,
   "metadata": {
    "collapsed": false,
    "scrolled": false
   },
   "outputs": [
    {
     "ename": "NameError",
     "evalue": "name 'autocorr_pp' is not defined",
     "output_type": "error",
     "traceback": [
      "\u001b[0;31m---------------------------------------------------------------------------\u001b[0m",
      "\u001b[0;31mNameError\u001b[0m                                 Traceback (most recent call last)",
      "\u001b[0;32m<ipython-input-13-d2e272113178>\u001b[0m in \u001b[0;36m<module>\u001b[0;34m()\u001b[0m\n\u001b[1;32m      2\u001b[0m \u001b[0mplt\u001b[0m\u001b[0;34m.\u001b[0m\u001b[0mfigure\u001b[0m\u001b[0;34m(\u001b[0m\u001b[0mfigsize\u001b[0m\u001b[0;34m=\u001b[0m\u001b[0;34m(\u001b[0m\u001b[0;36m9\u001b[0m\u001b[0;34m,\u001b[0m\u001b[0;36m6\u001b[0m\u001b[0;34m)\u001b[0m\u001b[0;34m)\u001b[0m\u001b[0;34m\u001b[0m\u001b[0m\n\u001b[1;32m      3\u001b[0m \u001b[0mplt\u001b[0m\u001b[0;34m.\u001b[0m\u001b[0msubplot\u001b[0m\u001b[0;34m(\u001b[0m\u001b[0;36m231\u001b[0m\u001b[0;34m)\u001b[0m\u001b[0;34m;\u001b[0m \u001b[0mplt\u001b[0m\u001b[0;34m.\u001b[0m\u001b[0mimshow\u001b[0m\u001b[0;34m(\u001b[0m\u001b[0mpplace\u001b[0m\u001b[0;34m[\u001b[0m\u001b[0;34m:\u001b[0m\u001b[0;34m,\u001b[0m\u001b[0;34m:\u001b[0m\u001b[0;34m,\u001b[0m\u001b[0;36m0\u001b[0m\u001b[0;34m]\u001b[0m\u001b[0;34m,\u001b[0m\u001b[0mcmap\u001b[0m\u001b[0;34m=\u001b[0m\u001b[0;34m'jet'\u001b[0m\u001b[0;34m)\u001b[0m\u001b[0;34m\u001b[0m\u001b[0m\n\u001b[0;32m----> 4\u001b[0;31m \u001b[0mplt\u001b[0m\u001b[0;34m.\u001b[0m\u001b[0msubplot\u001b[0m\u001b[0;34m(\u001b[0m\u001b[0;36m232\u001b[0m\u001b[0;34m)\u001b[0m\u001b[0;34m;\u001b[0m \u001b[0mplt\u001b[0m\u001b[0;34m.\u001b[0m\u001b[0mimshow\u001b[0m\u001b[0;34m(\u001b[0m\u001b[0mautocorr_pp\u001b[0m\u001b[0;34m,\u001b[0m\u001b[0mcmap\u001b[0m\u001b[0;34m=\u001b[0m\u001b[0;34m'jet'\u001b[0m\u001b[0;34m)\u001b[0m\u001b[0;34m;\u001b[0m \u001b[0mplt\u001b[0m\u001b[0;34m.\u001b[0m\u001b[0mtitle\u001b[0m\u001b[0;34m(\u001b[0m\u001b[0;34m'\"Good\" Place Cell'\u001b[0m\u001b[0;34m)\u001b[0m\u001b[0;34m\u001b[0m\u001b[0m\n\u001b[0m\u001b[1;32m      5\u001b[0m \u001b[0mplt\u001b[0m\u001b[0;34m.\u001b[0m\u001b[0msubplot\u001b[0m\u001b[0;34m(\u001b[0m\u001b[0;36m233\u001b[0m\u001b[0;34m)\u001b[0m\u001b[0;34m;\u001b[0m \u001b[0mplt\u001b[0m\u001b[0;34m.\u001b[0m\u001b[0mimshow\u001b[0m\u001b[0;34m(\u001b[0m\u001b[0mautocorr_pp_masked\u001b[0m\u001b[0;34m,\u001b[0m\u001b[0mcmap\u001b[0m\u001b[0;34m=\u001b[0m\u001b[0;34m'jet'\u001b[0m\u001b[0;34m)\u001b[0m\u001b[0;34m\u001b[0m\u001b[0m\n\u001b[1;32m      6\u001b[0m \u001b[0mplt\u001b[0m\u001b[0;34m.\u001b[0m\u001b[0msubplot\u001b[0m\u001b[0;34m(\u001b[0m\u001b[0;36m234\u001b[0m\u001b[0;34m)\u001b[0m\u001b[0;34m;\u001b[0m \u001b[0mplt\u001b[0m\u001b[0;34m.\u001b[0m\u001b[0mimshow\u001b[0m\u001b[0;34m(\u001b[0m\u001b[0mbplace\u001b[0m\u001b[0;34m[\u001b[0m\u001b[0;34m:\u001b[0m\u001b[0;34m,\u001b[0m\u001b[0;34m:\u001b[0m\u001b[0;34m,\u001b[0m\u001b[0;36m0\u001b[0m\u001b[0;34m]\u001b[0m\u001b[0;34m,\u001b[0m \u001b[0mcmap\u001b[0m\u001b[0;34m=\u001b[0m\u001b[0;34m'jet'\u001b[0m\u001b[0;34m)\u001b[0m\u001b[0;34m\u001b[0m\u001b[0m\n",
      "\u001b[0;31mNameError\u001b[0m: name 'autocorr_pp' is not defined"
     ]
    },
    {
     "data": {
      "image/png": "[encoded data removed]",
      "text/plain": [
       "<matplotlib.figure.Figure at 0x7f13827134a8>"
      ]
     },
     "metadata": {},
     "output_type": "display_data"
    }
   ],
   "source": [
    "# Plot with center removed\n",
    "plt.figure(figsize=(9,6))\n",
    "plt.subplot(231); plt.imshow(pplace[:,:,0],cmap='jet')\n",
    "plt.subplot(232); plt.imshow(autocorr_pp,cmap='jet'); plt.title('\"Good\" Place Cell')\n",
    "plt.subplot(233); plt.imshow(autocorr_pp_masked,cmap='jet')\n",
    "plt.subplot(234); plt.imshow(bplace[:,:,0], cmap='jet')\n",
    "plt.subplot(235); plt.imshow(autocorr_bp,cmap='jet'); plt.title('\"Bad\" Place Cell')\n",
    "plt.subplot(236); plt.imshow(autocorr_bp_masked, cmap='jet')\n",
    "plt.tight_layout()"
   ]
  },
  {
   "cell_type": "code",
   "execution_count": 14,
   "metadata": {
    "collapsed": false
   },
   "outputs": [
    {
     "ename": "NameError",
     "evalue": "name 'autocorr_pp_masked' is not defined",
     "output_type": "error",
     "traceback": [
      "\u001b[0;31m---------------------------------------------------------------------------\u001b[0m",
      "\u001b[0;31mNameError\u001b[0m                                 Traceback (most recent call last)",
      "\u001b[0;32m<ipython-input-14-be17123c36b9>\u001b[0m in \u001b[0;36m<module>\u001b[0;34m()\u001b[0m\n\u001b[0;32m----> 1\u001b[0;31m \u001b[0mprint\u001b[0m\u001b[0;34m(\u001b[0m\u001b[0;34m'Mean of PC autocorrelation (center removed): {}'\u001b[0m\u001b[0;34m.\u001b[0m\u001b[0mformat\u001b[0m\u001b[0;34m(\u001b[0m\u001b[0mnp\u001b[0m\u001b[0;34m.\u001b[0m\u001b[0mmean\u001b[0m\u001b[0;34m(\u001b[0m\u001b[0mautocorr_pp_masked\u001b[0m\u001b[0;34m)\u001b[0m\u001b[0;34m)\u001b[0m\u001b[0;34m)\u001b[0m\u001b[0;34m\u001b[0m\u001b[0m\n\u001b[0m\u001b[1;32m      2\u001b[0m \u001b[0mprint\u001b[0m\u001b[0;34m(\u001b[0m\u001b[0;34m'Mean of bad PC autocorrelation (center removed): {}'\u001b[0m\u001b[0;34m.\u001b[0m\u001b[0mformat\u001b[0m\u001b[0;34m(\u001b[0m\u001b[0mnp\u001b[0m\u001b[0;34m.\u001b[0m\u001b[0mmean\u001b[0m\u001b[0;34m(\u001b[0m\u001b[0mautocorr_bp_masked\u001b[0m\u001b[0;34m)\u001b[0m\u001b[0;34m)\u001b[0m\u001b[0;34m)\u001b[0m\u001b[0;34m\u001b[0m\u001b[0m\n",
      "\u001b[0;31mNameError\u001b[0m: name 'autocorr_pp_masked' is not defined"
     ]
    }
   ],
   "source": [
    "print('Mean of PC autocorrelation (center removed): {}'.format(np.mean(autocorr_pp_masked)))\n",
    "print('Mean of bad PC autocorrelation (center removed): {}'.format(np.mean(autocorr_bp_masked)))"
   ]
  },
  {
   "cell_type": "code",
   "execution_count": 35,
   "metadata": {
    "collapsed": true
   },
   "outputs": [],
   "source": [
    "ppg, _, _ = gridness_score(pplace[:,:,0])\n",
    "bpg, _, _ = gridness_score(bplace[:,:,0])"
   ]
  },
  {
   "cell_type": "code",
   "execution_count": 36,
   "metadata": {
    "collapsed": false
   },
   "outputs": [
    {
     "name": "stdout",
     "output_type": "stream",
     "text": [
      "Gridness score of PC: -2.7881053464851036e-06\n",
      "Gridness score of non-PC: 0.012208606389958798\n"
     ]
    }
   ],
   "source": [
    "print('Gridness score of PC: {}'.format(ppg))\n",
    "print('Gridness score of non-PC: {}'.format(bpg))"
   ]
  },
  {
   "cell_type": "markdown",
   "metadata": {},
   "source": [
    "This gives us some information - the closer the mean is to zero, the more place-like the firing map. However, this doesn't allow  us to easily compare different firing maps to each other. The next step should be to create a normalized scale so that maps can be compared."
   ]
  },
  {
   "cell_type": "markdown",
   "metadata": {},
   "source": [
    "### Testing LoG/DoG central blob detection\n",
    "This is simply used to figure out how to best remove the center - purely exploratory for developing the above."
   ]
  },
  {
   "cell_type": "code",
   "execution_count": 42,
   "metadata": {
    "collapsed": false
   },
   "outputs": [
    {
     "data": {
      "image/png": "[encoded data removed]",
      "text/plain": [
       "<matplotlib.figure.Figure at 0x7f69a665bf28>"
      ]
     },
     "metadata": {},
     "output_type": "display_data"
    },
    {
     "name": "stdout",
     "output_type": "stream",
     "text": [
      "32\n"
     ]
    }
   ],
   "source": [
    "image = autocorr_bp\n",
    "multiple = True\n",
    "thresh = 1\n",
    "\n",
    "while multiple:\n",
    "    blobs_log = blob_log(image, max_sigma=10, num_sigma=30, threshold=thresh)\n",
    "    blobs_dog = blob_dog(image, max_sigma=10, threshold=thresh)\n",
    "\n",
    "    if (blobs_dog.shape[0] == 1):# and (blobs_dog.shape[0] == 1):\n",
    "        multiple = False\n",
    "    elif (blobs_dog.shape[0] < 1):\n",
    "        thresh = thresh / 1.5\n",
    "        \n",
    "    else:\n",
    "        thresh = thresh * 2\n",
    "\n",
    "# Compute radii in the 3rd column.\n",
    "blobs_log[:, 2] = blobs_log[:, 2] * np.sqrt(2)\n",
    "blobs_dog[:, 2] = blobs_dog[:, 2] * np.sqrt(2)\n",
    "\n",
    "blobs_list = [blobs_log, blobs_dog]\n",
    "colors = ['yellow', 'lime', 'red']\n",
    "titles = ['Laplacian of Gaussian', 'Difference of Gaussian']\n",
    "sequence = zip(blobs_list, colors, titles)\n",
    "\n",
    "fig, axes = plt.subplots(1, 2, figsize=(8, 4), sharex=True, sharey=True)\n",
    "ax = axes.ravel()\n",
    "\n",
    "for idx, (blobs, color, title) in enumerate(sequence):\n",
    "    ax[idx].set_title(title)\n",
    "    ax[idx].imshow(image, interpolation='nearest',cmap='jet')\n",
    "    for blob in blobs:\n",
    "        y, x, r = blob\n",
    "        c = plt.Circle((x, y), r, color=color, linewidth=2, fill=False)\n",
    "        ax[idx].add_patch(c)\n",
    "    ax[idx].set_axis_off()\n",
    "\n",
    "plt.tight_layout()\n",
    "plt.show()\n",
    "print(thresh)"
   ]
  },
  {
   "cell_type": "code",
   "execution_count": 44,
   "metadata": {
    "collapsed": false
   },
   "outputs": [
    {
     "data": {
      "text/plain": [
       "<matplotlib.image.AxesImage at 0x7f69a65a6f60>"
      ]
     },
     "execution_count": 44,
     "metadata": {},
     "output_type": "execute_result"
    },
    {
     "data": {
      "image/png": "[encoded data removed]",
      "text/plain": [
       "<matplotlib.figure.Figure at 0x7f69a63f0588>"
      ]
     },
     "metadata": {},
     "output_type": "display_data"
    }
   ],
   "source": [
    "plt.subplot(121); plt.imshow(autocorr_bp,cmap='jet')\n",
    "plt.subplot(122); plt.imshow(autocorr_bp_masked,cmap='jet')"
   ]
  },
  {
   "cell_type": "code",
   "execution_count": 45,
   "metadata": {
    "collapsed": false
   },
   "outputs": [
    {
     "name": "stdout",
     "output_type": "stream",
     "text": [
      "Mean of masked autocorrelagram: 5.46248632457087\n"
     ]
    }
   ],
   "source": [
    "print('Mean of masked autocorrelagram: {}'.format(np.mean(autocorr_bp_masked)))"
   ]
  },
  {
   "cell_type": "code",
   "execution_count": 48,
   "metadata": {
    "collapsed": false
   },
   "outputs": [
    {
     "name": "stdout",
     "output_type": "stream",
     "text": [
      "Mean of normalized masked AC: 0.03868883193985332\n"
     ]
    }
   ],
   "source": [
    "maxac = np.max(autocorr_bp)\n",
    "normac = autocorr_bp_masked / maxac\n",
    "print('Mean of normalized masked AC: {}'.format(np.mean(normac)))"
   ]
  }
 ],
 "metadata": {
  "kernelspec": {
   "display_name": "Python 3",
   "language": "python",
   "name": "python3"
  },
  "language_info": {
   "codemirror_mode": {
    "name": "ipython",
    "version": 3
   },
   "file_extension": ".py",
   "mimetype": "text/x-python",
   "name": "python",
   "nbconvert_exporter": "python",
   "pygments_lexer": "ipython3",
   "version": "3.6.4"
  }
 },
 "nbformat": 4,
 "nbformat_minor": 2
}
